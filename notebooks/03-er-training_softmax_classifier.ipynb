{
 "cells": [
  {
   "cell_type": "code",
   "execution_count": 7,
   "metadata": {},
   "outputs": [],
   "source": [
    "import os\n",
    "import sys\n",
    "import importlib\n",
    "\n",
    "import numpy as np\n",
    "\n",
    "import sklearn.model_selection as sel\n",
    "import sklearn.linear_model as glm\n",
    "\n",
    "# add project modules to the path\n",
    "path_to_module = os.path.abspath(os.path.join(os.getcwd(),\"..\",\"src/\"))\n",
    "sys.path.append(path_to_module)\n",
    "\n",
    "import src.models.train_model as train"
   ]
  },
  {
   "cell_type": "markdown",
   "metadata": {},
   "source": [
    "Logistic regression/softmax is the 'hello world' of classification algorithms. So we try this first\n",
    "\n",
    "load the data"
   ]
  },
  {
   "cell_type": "code",
   "execution_count": 8,
   "metadata": {},
   "outputs": [],
   "source": [
    "import importlib\n"
   ]
  },
  {
   "cell_type": "code",
   "execution_count": 9,
   "metadata": {},
   "outputs": [
    {
     "data": {
      "text/plain": [
       "<module 'src.models.train_model' from '/home/edd/Documents/Projects/minst-ensemble/src/models/train_model.py'>"
      ]
     },
     "execution_count": 9,
     "metadata": {},
     "output_type": "execute_result"
    }
   ],
   "source": [
    "importlib.reload(train)"
   ]
  },
  {
   "cell_type": "code",
   "execution_count": 10,
   "metadata": {},
   "outputs": [
    {
     "name": "stderr",
     "output_type": "stream",
     "text": [
      "loading files from /home/edd/Documents/Projects/minst-ensemble/data/processed: 100%|██████████| 4/4 [00:01<00:00,  2.54it/s]\n"
     ]
    }
   ],
   "source": [
    "path_to_data = os.path.abspath(os.path.join(os.getcwd(),\n",
    "                                            \"..\",\n",
    "                                            \"data/processed/\"\n",
    "                                           ))\n",
    "\n",
    "data_dict = train.load_processed_data(file_path=path_to_data)"
   ]
  },
  {
   "cell_type": "code",
   "execution_count": 11,
   "metadata": {},
   "outputs": [],
   "source": [
    "X = data_dict[\"X_train\"]\n",
    "y = data_dict[\"y_train\"]"
   ]
  },
  {
   "cell_type": "markdown",
   "metadata": {},
   "source": [
    "create train test split"
   ]
  },
  {
   "cell_type": "code",
   "execution_count": 14,
   "metadata": {},
   "outputs": [],
   "source": [
    "X_train, X_test, y_train, y_test = sel.train_test_split(X,\n",
    "                                                    y,\n",
    "                                                    test_size=0.3,\n",
    "                                                    random_state=42,\n",
    "                                                    shuffle=True,\n",
    "                                                    stratify=y)"
   ]
  },
  {
   "cell_type": "code",
   "execution_count": 148,
   "metadata": {},
   "outputs": [],
   "source": [
    "X_train_sample, X_remains, y_train_sample, y_test_remains = train_test_split(X,\n",
    "                                                    y,\n",
    "                                                    test_size=0.8,\n",
    "                                                    random_state=42,\n",
    "                                                    shuffle=True,\n",
    "                                                    stratify=y)"
   ]
  },
  {
   "cell_type": "markdown",
   "metadata": {},
   "source": [
    "random search"
   ]
  },
  {
   "cell_type": "markdown",
   "metadata": {},
   "source": [
    "see if we gain by applying any penalties to the data"
   ]
  },
  {
   "cell_type": "code",
   "execution_count": 24,
   "metadata": {},
   "outputs": [],
   "source": [
    "log_params = {\"penalty\": [\"l1\", \"l2\"],\n",
    "              \"C\" : [0.001,0.01, 0.1, 1],\n",
    "              \"multi_class\" : [\"ovr\", \"multinomial\"]}"
   ]
  },
  {
   "cell_type": "code",
   "execution_count": 25,
   "metadata": {},
   "outputs": [],
   "source": [
    "clf = glm.LogisticRegression(solver='saga', max_iter=500)"
   ]
  },
  {
   "cell_type": "code",
   "execution_count": 26,
   "metadata": {},
   "outputs": [],
   "source": [
    "grid_search = sel.GridSearchCV(estimator=clf, \n",
    "                                 param_grid=log_params,\n",
    "                                 scoring = \"f1_macro\",\n",
    "                                 n_jobs = 2,\n",
    "                                 cv=3,\n",
    "                                 verbose = 10)"
   ]
  },
  {
   "cell_type": "code",
   "execution_count": null,
   "metadata": {},
   "outputs": [
    {
     "name": "stdout",
     "output_type": "stream",
     "text": [
      "Fitting 3 folds for each of 16 candidates, totalling 48 fits\n"
     ]
    },
    {
     "name": "stderr",
     "output_type": "stream",
     "text": [
      "[Parallel(n_jobs=2)]: Using backend LokyBackend with 2 concurrent workers.\n",
      "[Parallel(n_jobs=2)]: Done   1 tasks      | elapsed:  4.9min\n",
      "[Parallel(n_jobs=2)]: Done   4 tasks      | elapsed: 10.7min\n",
      "[Parallel(n_jobs=2)]: Done   9 tasks      | elapsed: 21.0min\n",
      "[Parallel(n_jobs=2)]: Done  14 tasks      | elapsed: 35.8min\n",
      "[Parallel(n_jobs=2)]: Done  21 tasks      | elapsed: 58.4min\n",
      "[Parallel(n_jobs=2)]: Done  28 tasks      | elapsed: 82.7min\n",
      "[Parallel(n_jobs=2)]: Done  37 tasks      | elapsed: 112.9min\n"
     ]
    }
   ],
   "source": [
    "grid_search.fit(X_train, y_train)"
   ]
  },
  {
   "cell_type": "code",
   "execution_count": null,
   "metadata": {},
   "outputs": [],
   "source": [
    "grid_search.best_params_\n"
   ]
  },
  {
   "cell_type": "code",
   "execution_count": null,
   "metadata": {},
   "outputs": [],
   "source": [
    "grid_search.best_score_\n"
   ]
  },
  {
   "cell_type": "markdown",
   "metadata": {},
   "source": [
    "That didn't work well... but we shouldn't be surprised given the data is not linearly seperable"
   ]
  }
 ],
 "metadata": {
  "kernelspec": {
   "display_name": "minst-ensemble",
   "language": "python",
   "name": "minst-ensemble"
  },
  "language_info": {
   "codemirror_mode": {
    "name": "ipython",
    "version": 3
   },
   "file_extension": ".py",
   "mimetype": "text/x-python",
   "name": "python",
   "nbconvert_exporter": "python",
   "pygments_lexer": "ipython3",
   "version": "3.6.8"
  },
  "toc": {
   "base_numbering": 1,
   "nav_menu": {},
   "number_sections": true,
   "sideBar": true,
   "skip_h1_title": false,
   "title_cell": "Table of Contents",
   "title_sidebar": "Contents",
   "toc_cell": false,
   "toc_position": {},
   "toc_section_display": true,
   "toc_window_display": false
  },
  "varInspector": {
   "cols": {
    "lenName": 16,
    "lenType": 16,
    "lenVar": 40
   },
   "kernels_config": {
    "python": {
     "delete_cmd_postfix": "",
     "delete_cmd_prefix": "del ",
     "library": "var_list.py",
     "varRefreshCmd": "print(var_dic_list())"
    },
    "r": {
     "delete_cmd_postfix": ") ",
     "delete_cmd_prefix": "rm(",
     "library": "var_list.r",
     "varRefreshCmd": "cat(var_dic_list()) "
    }
   },
   "types_to_exclude": [
    "module",
    "function",
    "builtin_function_or_method",
    "instance",
    "_Feature"
   ],
   "window_display": false
  }
 },
 "nbformat": 4,
 "nbformat_minor": 2
}
