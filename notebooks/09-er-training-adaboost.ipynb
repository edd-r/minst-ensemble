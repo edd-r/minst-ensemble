{
 "cells": [
  {
   "cell_type": "code",
   "execution_count": 21,
   "metadata": {},
   "outputs": [],
   "source": [
    "import os\n",
    "import sys\n",
    "import importlib\n",
    "\n",
    "import pandas as pd\n",
    "import numpy as np\n",
    "import sklearn.tree as tree\n",
    "import sklearn.model_selection as sel\n",
    "import sklearn.metrics as metrics\n",
    "import sklearn.ensemble as ensemble\n",
    "import seaborn as sb\n",
    "\n",
    "from sklearn import svm\n",
    "\n",
    "\n",
    "# add project modules to the path\n",
    "path_to_module = os.path.abspath(os.path.join(os.getcwd(),\"..\",\"src/\"))\n",
    "sys.path.append(path_to_module)\n",
    "\n",
    "import src.models.train_model as train"
   ]
  },
  {
   "cell_type": "markdown",
   "metadata": {},
   "source": [
    "I'm now repeating code a lot here, bad! Will need to write bits of this"
   ]
  },
  {
   "cell_type": "code",
   "execution_count": 2,
   "metadata": {},
   "outputs": [
    {
     "name": "stderr",
     "output_type": "stream",
     "text": [
      "loading files from /home/edd/Documents/Projects/minst-ensemble/data/processed: 100%|██████████| 4/4 [00:01<00:00,  2.10it/s]\n"
     ]
    }
   ],
   "source": [
    "path_to_data = os.path.abspath(os.path.join(os.getcwd(),\n",
    "                                            \"..\",\n",
    "                                            \"data/processed/\"\n",
    "                                           ))\n",
    "\n",
    "data_dict = train.load_processed_data(file_path=path_to_data)"
   ]
  },
  {
   "cell_type": "code",
   "execution_count": 3,
   "metadata": {},
   "outputs": [],
   "source": [
    "X = data_dict[\"X_train\"]\n",
    "y = data_dict[\"y_train\"]"
   ]
  },
  {
   "cell_type": "code",
   "execution_count": 4,
   "metadata": {},
   "outputs": [],
   "source": [
    "X_train, X_test, y_train, y_test = sel.train_test_split(X,\n",
    "                                                    y,\n",
    "                                                    test_size=0.3,\n",
    "                                                    random_state=42,\n",
    "                                                    shuffle=True,\n",
    "                                                    stratify=y)"
   ]
  },
  {
   "cell_type": "code",
   "execution_count": 5,
   "metadata": {},
   "outputs": [],
   "source": [
    "X_train_smol, X_test_smol, y_train_smol, y_test_smol = sel.train_test_split(X,\n",
    "                                                    y,\n",
    "                                                    test_size=0.09,\n",
    "                                                    train_size=0.21,\n",
    "                                                    random_state=42,\n",
    "                                                    shuffle=True,\n",
    "                                                    stratify=y)"
   ]
  },
  {
   "cell_type": "code",
   "execution_count": 47,
   "metadata": {},
   "outputs": [],
   "source": [
    "ada_clf = ensemble.AdaBoostClassifier(tree.DecisionTreeClassifier(class_weight=\"balanced\",),\n",
    "                                      \n",
    "                                     random_state=42,\n",
    "                                     )"
   ]
  },
  {
   "cell_type": "code",
   "execution_count": 48,
   "metadata": {},
   "outputs": [],
   "source": [
    "ada_params = {\"n_estimators\": [100,200,500,1000,2000],\n",
    "              \"learning_rate\": [0.01, 0.1, 1, 10]\n",
    "             }\n",
    "            "
   ]
  },
  {
   "cell_type": "code",
   "execution_count": 49,
   "metadata": {},
   "outputs": [],
   "source": [
    "grid_search = sel.GridSearchCV(estimator=ada_clf, \n",
    "                               param_grid=ada_params,\n",
    "                               scoring = \"f1_macro\",\n",
    "                               n_jobs = 2,\n",
    "                               cv=3,\n",
    "                               verbose = 10\n",
    "                              )"
   ]
  },
  {
   "cell_type": "code",
   "execution_count": 50,
   "metadata": {},
   "outputs": [
    {
     "name": "stdout",
     "output_type": "stream",
     "text": [
      "Fitting 3 folds for each of 20 candidates, totalling 60 fits\n"
     ]
    },
    {
     "name": "stderr",
     "output_type": "stream",
     "text": [
      "[Parallel(n_jobs=2)]: Using backend LokyBackend with 2 concurrent workers.\n",
      "[Parallel(n_jobs=2)]: Done   1 tasks      | elapsed:    4.6s\n",
      "[Parallel(n_jobs=2)]: Done   4 tasks      | elapsed:    9.5s\n",
      "[Parallel(n_jobs=2)]: Done   9 tasks      | elapsed:   23.7s\n",
      "[Parallel(n_jobs=2)]: Done  14 tasks      | elapsed:   34.0s\n",
      "[Parallel(n_jobs=2)]: Done  21 tasks      | elapsed:   55.5s\n",
      "[Parallel(n_jobs=2)]: Done  28 tasks      | elapsed:  1.2min\n",
      "[Parallel(n_jobs=2)]: Done  37 tasks      | elapsed:  1.6min\n",
      "[Parallel(n_jobs=2)]: Done  46 tasks      | elapsed:  1.9min\n",
      "[Parallel(n_jobs=2)]: Done  57 tasks      | elapsed:  2.4min\n",
      "[Parallel(n_jobs=2)]: Done  60 out of  60 | elapsed:  2.5min finished\n"
     ]
    },
    {
     "data": {
      "text/plain": [
       "GridSearchCV(cv=3, error_score='raise-deprecating',\n",
       "             estimator=AdaBoostClassifier(algorithm='SAMME.R',\n",
       "                                          base_estimator=DecisionTreeClassifier(class_weight='balanced',\n",
       "                                                                                criterion='gini',\n",
       "                                                                                max_depth=None,\n",
       "                                                                                max_features=None,\n",
       "                                                                                max_leaf_nodes=None,\n",
       "                                                                                min_impurity_decrease=0.0,\n",
       "                                                                                min_impurity_split=None,\n",
       "                                                                                min_samples_leaf=1,\n",
       "                                                                                min_samples_split=2,\n",
       "                                                                                min_weight_fraction_leaf=0.0,\n",
       "                                                                                presort=False,\n",
       "                                                                                random_state=None,\n",
       "                                                                                splitter='best'),\n",
       "                                          learning_rate=1.0, n_estimators=50,\n",
       "                                          random_state=42),\n",
       "             iid='warn', n_jobs=2,\n",
       "             param_grid={'learning_rate': [0.01, 0.1, 1, 10],\n",
       "                         'n_estimators': [100, 200, 500, 1000, 2000]},\n",
       "             pre_dispatch='2*n_jobs', refit=True, return_train_score=False,\n",
       "             scoring='f1_macro', verbose=10)"
      ]
     },
     "execution_count": 50,
     "metadata": {},
     "output_type": "execute_result"
    }
   ],
   "source": [
    "grid_search.fit(X_train_smol, y_train_smol)"
   ]
  },
  {
   "cell_type": "code",
   "execution_count": 51,
   "metadata": {},
   "outputs": [
    {
     "data": {
      "text/plain": [
       "{'learning_rate': 0.01, 'n_estimators': 100}"
      ]
     },
     "execution_count": 51,
     "metadata": {},
     "output_type": "execute_result"
    }
   ],
   "source": [
    "\n",
    "grid_search.best_params_"
   ]
  },
  {
   "cell_type": "code",
   "execution_count": 52,
   "metadata": {},
   "outputs": [
    {
     "data": {
      "text/plain": [
       "0.7085986138018274"
      ]
     },
     "execution_count": 52,
     "metadata": {},
     "output_type": "execute_result"
    }
   ],
   "source": [
    "grid_search.best_score_"
   ]
  },
  {
   "cell_type": "markdown",
   "metadata": {},
   "source": [
    "not really very promising..."
   ]
  }
 ],
 "metadata": {
  "kernelspec": {
   "display_name": "minst-ensemble",
   "language": "python",
   "name": "minst-ensemble"
  },
  "toc": {
   "base_numbering": 1,
   "nav_menu": {},
   "number_sections": true,
   "sideBar": true,
   "skip_h1_title": false,
   "title_cell": "Table of Contents",
   "title_sidebar": "Contents",
   "toc_cell": false,
   "toc_position": {},
   "toc_section_display": true,
   "toc_window_display": false
  },
  "varInspector": {
   "cols": {
    "lenName": 16,
    "lenType": 16,
    "lenVar": 40
   },
   "kernels_config": {
    "python": {
     "delete_cmd_postfix": "",
     "delete_cmd_prefix": "del ",
     "library": "var_list.py",
     "varRefreshCmd": "print(var_dic_list())"
    },
    "r": {
     "delete_cmd_postfix": ") ",
     "delete_cmd_prefix": "rm(",
     "library": "var_list.r",
     "varRefreshCmd": "cat(var_dic_list()) "
    }
   },
   "types_to_exclude": [
    "module",
    "function",
    "builtin_function_or_method",
    "instance",
    "_Feature"
   ],
   "window_display": false
  }
 },
 "nbformat": 4,
 "nbformat_minor": 2
}
