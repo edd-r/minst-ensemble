{
 "cells": [
  {
   "cell_type": "code",
   "execution_count": 9,
   "metadata": {},
   "outputs": [],
   "source": [
    "import os\n",
    "import sys\n",
    "import importlib\n",
    "\n",
    "import pandas as pd\n",
    "import numpy as np\n",
    "import sklearn.model_selection as sel\n",
    "import sklearn.metrics as metrics\n",
    "import sklearn.neighbors as neighbors\n",
    "import seaborn as sb\n",
    "\n",
    "# add project modules to the path\n",
    "path_to_module = os.path.abspath(os.path.join(os.getcwd(), \"..\", \"src/\"))\n",
    "sys.path.append(path_to_module)\n",
    "\n",
    "import src.models.train_model as train"
   ]
  },
  {
   "cell_type": "code",
   "execution_count": 11,
   "metadata": {},
   "outputs": [
    {
     "name": "stderr",
     "output_type": "stream",
     "text": [
      "loading files from /home/edd/Documents/Projects/minst-ensemble/data/processed: 100%|██████████| 4/4 [00:00<00:00, 76.78it/s]\n"
     ]
    }
   ],
   "source": [
    "path_to_data = os.path.abspath(os.path.join(os.getcwd(),\n",
    "                                            \"..\",\n",
    "                                            \"data/processed/\"\n",
    "                                            ))\n",
    "\n",
    "data_dict = train.load_processed_data(file_path=path_to_data)"
   ]
  },
  {
   "cell_type": "code",
   "execution_count": 12,
   "metadata": {},
   "outputs": [],
   "source": [
    "X = data_dict[\"X_train\"]\n",
    "y = data_dict[\"y_train\"]"
   ]
  },
  {
   "cell_type": "code",
   "execution_count": 13,
   "metadata": {},
   "outputs": [],
   "source": [
    "X_train, X_test, y_train, y_test = sel.train_test_split(X,\n",
    "                                                    y,\n",
    "                                                    test_size=0.3,\n",
    "                                                    random_state=42,\n",
    "                                                    shuffle=True,\n",
    "                                                    stratify=y)"
   ]
  },
  {
   "cell_type": "code",
   "execution_count": 14,
   "metadata": {},
   "outputs": [],
   "source": [
    "X_train_smol, X_test_smol, y_train_smol, y_test_smol = sel.train_test_split(X,\n",
    "                                                    y,\n",
    "                                                    test_size=0.09,\n",
    "                                                    train_size=0.21,\n",
    "                                                    random_state=42,\n",
    "                                                    shuffle=True,\n",
    "                                                    stratify=y)"
   ]
  },
  {
   "cell_type": "code",
   "execution_count": 22,
   "metadata": {},
   "outputs": [],
   "source": [
    "kn_clf = neighbors.KNeighborsClassifier(\n",
    "                                       \n",
    "                                       )                                        "
   ]
  },
  {
   "cell_type": "code",
   "execution_count": 23,
   "metadata": {},
   "outputs": [],
   "source": [
    "kn_params = {\"n_neighbors\" : [x for x in range(2, 7,1)],\n",
    "              \"weights\" : [\"distance\"],\n",
    "              \"leaf_size\" : [x for x in range(15,35,5)]\n",
    "             }\n"
   ]
  },
  {
   "cell_type": "code",
   "execution_count": 26,
   "metadata": {},
   "outputs": [],
   "source": [
    "grid_search = sel.GridSearchCV(estimator=kn_clf,\n",
    "                             param_grid=kn_params,\n",
    "                             scoring=\"f1_macro\",\n",
    "                             n_jobs=2,\n",
    "                             cv=3,\n",
    "                             verbose=10)"
   ]
  },
  {
   "cell_type": "code",
   "execution_count": 27,
   "metadata": {
    "scrolled": true
   },
   "outputs": [
    {
     "name": "stdout",
     "output_type": "stream",
     "text": [
      "Fitting 3 folds for each of 20 candidates, totalling 60 fits\n"
     ]
    },
    {
     "name": "stderr",
     "output_type": "stream",
     "text": [
      "[Parallel(n_jobs=2)]: Using backend LokyBackend with 2 concurrent workers.\n",
      "[Parallel(n_jobs=2)]: Done   1 tasks      | elapsed:   34.6s\n",
      "[Parallel(n_jobs=2)]: Done   4 tasks      | elapsed:  1.2min\n",
      "[Parallel(n_jobs=2)]: Done   9 tasks      | elapsed:  3.1min\n",
      "[Parallel(n_jobs=2)]: Done  14 tasks      | elapsed:  4.7min\n",
      "[Parallel(n_jobs=2)]: Done  21 tasks      | elapsed:  7.5min\n",
      "[Parallel(n_jobs=2)]: Done  28 tasks      | elapsed:  9.7min\n",
      "[Parallel(n_jobs=2)]: Done  37 tasks      | elapsed: 13.6min\n",
      "[Parallel(n_jobs=2)]: Done  46 tasks      | elapsed: 17.0min\n",
      "[Parallel(n_jobs=2)]: Done  57 tasks      | elapsed: 21.5min\n",
      "[Parallel(n_jobs=2)]: Done  60 out of  60 | elapsed: 22.4min finished\n"
     ]
    },
    {
     "data": {
      "text/plain": [
       "GridSearchCV(cv=3, error_score='raise-deprecating',\n",
       "             estimator=KNeighborsClassifier(algorithm='auto', leaf_size=30,\n",
       "                                            metric='minkowski',\n",
       "                                            metric_params=None, n_jobs=None,\n",
       "                                            n_neighbors=5, p=2,\n",
       "                                            weights='uniform'),\n",
       "             iid='warn', n_jobs=2,\n",
       "             param_grid={'leaf_size': [15, 20, 25, 30],\n",
       "                         'n_neighbors': [2, 3, 4, 5, 6],\n",
       "                         'weights': ['distance']},\n",
       "             pre_dispatch='2*n_jobs', refit=True, return_train_score=False,\n",
       "             scoring='f1_macro', verbose=10)"
      ]
     },
     "execution_count": 27,
     "metadata": {},
     "output_type": "execute_result"
    }
   ],
   "source": [
    "grid_search.fit(X_train_smol, y_train_smol)"
   ]
  },
  {
   "cell_type": "code",
   "execution_count": 28,
   "metadata": {},
   "outputs": [
    {
     "data": {
      "text/plain": [
       "{'leaf_size': 15, 'n_neighbors': 6, 'weights': 'distance'}"
      ]
     },
     "execution_count": 28,
     "metadata": {},
     "output_type": "execute_result"
    }
   ],
   "source": [
    "grid_search.best_params_"
   ]
  },
  {
   "cell_type": "code",
   "execution_count": 29,
   "metadata": {},
   "outputs": [
    {
     "data": {
      "text/plain": [
       "0.9374186017628744"
      ]
     },
     "execution_count": 29,
     "metadata": {},
     "output_type": "execute_result"
    }
   ],
   "source": [
    "grid_search.best_score_"
   ]
  },
  {
   "cell_type": "markdown",
   "metadata": {},
   "source": [
    "smaller leaf size, more neighbor might improve this"
   ]
  },
  {
   "cell_type": "code",
   "execution_count": 30,
   "metadata": {},
   "outputs": [],
   "source": [
    "kn_params = {\"n_neighbors\" : [x for x in range(5, 11,1)],\n",
    "              \"weights\" : [\"distance\"],\n",
    "              \"leaf_size\" : [x for x in range(5,20,5)]\n",
    "             }\n"
   ]
  },
  {
   "cell_type": "code",
   "execution_count": 31,
   "metadata": {},
   "outputs": [],
   "source": [
    "grid_search = sel.GridSearchCV(estimator=kn_clf,\n",
    "                             param_grid=kn_params,\n",
    "                             scoring=\"f1_macro\",\n",
    "                             n_jobs=2,\n",
    "                             cv=3,\n",
    "                             verbose=10)"
   ]
  },
  {
   "cell_type": "code",
   "execution_count": 32,
   "metadata": {},
   "outputs": [
    {
     "name": "stdout",
     "output_type": "stream",
     "text": [
      "Fitting 3 folds for each of 18 candidates, totalling 54 fits\n"
     ]
    },
    {
     "name": "stderr",
     "output_type": "stream",
     "text": [
      "[Parallel(n_jobs=2)]: Using backend LokyBackend with 2 concurrent workers.\n",
      "[Parallel(n_jobs=2)]: Done   1 tasks      | elapsed:   50.5s\n",
      "[Parallel(n_jobs=2)]: Done   4 tasks      | elapsed:  1.9min\n",
      "[Parallel(n_jobs=2)]: Done   9 tasks      | elapsed:  4.4min\n",
      "[Parallel(n_jobs=2)]: Done  14 tasks      | elapsed:  6.7min\n",
      "[Parallel(n_jobs=2)]: Done  21 tasks      | elapsed: 10.0min\n",
      "[Parallel(n_jobs=2)]: Done  28 tasks      | elapsed: 12.9min\n",
      "[Parallel(n_jobs=2)]: Done  37 tasks      | elapsed: 16.8min\n",
      "[Parallel(n_jobs=2)]: Done  46 tasks      | elapsed: 20.3min\n",
      "[Parallel(n_jobs=2)]: Done  54 out of  54 | elapsed: 23.5min finished\n"
     ]
    },
    {
     "data": {
      "text/plain": [
       "GridSearchCV(cv=3, error_score='raise-deprecating',\n",
       "             estimator=KNeighborsClassifier(algorithm='auto', leaf_size=30,\n",
       "                                            metric='minkowski',\n",
       "                                            metric_params=None, n_jobs=None,\n",
       "                                            n_neighbors=5, p=2,\n",
       "                                            weights='uniform'),\n",
       "             iid='warn', n_jobs=2,\n",
       "             param_grid={'leaf_size': [5, 10, 15],\n",
       "                         'n_neighbors': [5, 6, 7, 8, 9, 10],\n",
       "                         'weights': ['distance']},\n",
       "             pre_dispatch='2*n_jobs', refit=True, return_train_score=False,\n",
       "             scoring='f1_macro', verbose=10)"
      ]
     },
     "execution_count": 32,
     "metadata": {},
     "output_type": "execute_result"
    }
   ],
   "source": [
    "grid_search.fit(X_train_smol, y_train_smol)"
   ]
  },
  {
   "cell_type": "code",
   "execution_count": 33,
   "metadata": {},
   "outputs": [
    {
     "data": {
      "text/plain": [
       "{'leaf_size': 5, 'n_neighbors': 6, 'weights': 'distance'}"
      ]
     },
     "execution_count": 33,
     "metadata": {},
     "output_type": "execute_result"
    }
   ],
   "source": [
    "grid_search.best_params_"
   ]
  },
  {
   "cell_type": "code",
   "execution_count": 34,
   "metadata": {},
   "outputs": [
    {
     "data": {
      "text/plain": [
       "0.9374186017628744"
      ]
     },
     "execution_count": 34,
     "metadata": {},
     "output_type": "execute_result"
    }
   ],
   "source": [
    "grid_search.best_score_"
   ]
  },
  {
   "cell_type": "markdown",
   "metadata": {},
   "source": [
    "train on the full dataset to check the params "
   ]
  },
  {
   "cell_type": "code",
   "execution_count": 16,
   "metadata": {},
   "outputs": [],
   "source": [
    "kn_clf = neighbors.KNeighborsClassifier(leaf_size=5,\n",
    "                                        n_neighbors=6,\n",
    "                                        weights=\"distance\",\n",
    "                                        n_jobs=2\n",
    "                                       )         "
   ]
  },
  {
   "cell_type": "code",
   "execution_count": 17,
   "metadata": {},
   "outputs": [
    {
     "name": "stderr",
     "output_type": "stream",
     "text": [
      "[Parallel(n_jobs=2)]: Using backend LokyBackend with 2 concurrent workers.\n",
      "[Parallel(n_jobs=2)]: Done   3 out of   3 | elapsed: 17.8min finished\n"
     ]
    },
    {
     "data": {
      "text/plain": [
       "{'fit_time': array([1.1826489 , 1.16768074, 1.15691495]),\n",
       " 'score_time': array([214.44076252, 207.36919355, 147.39549112]),\n",
       " 'estimator': (KNeighborsClassifier(algorithm='auto', leaf_size=5, metric='minkowski',\n",
       "                       metric_params=None, n_jobs=2, n_neighbors=6, p=2,\n",
       "                       weights='distance'),\n",
       "  KNeighborsClassifier(algorithm='auto', leaf_size=5, metric='minkowski',\n",
       "                       metric_params=None, n_jobs=2, n_neighbors=6, p=2,\n",
       "                       weights='distance'),\n",
       "  KNeighborsClassifier(algorithm='auto', leaf_size=5, metric='minkowski',\n",
       "                       metric_params=None, n_jobs=2, n_neighbors=6, p=2,\n",
       "                       weights='distance')),\n",
       " 'test_score': array([0.95713274, 0.95645131, 0.95798829]),\n",
       " 'train_score': array([1., 1., 1.])}"
      ]
     },
     "execution_count": 17,
     "metadata": {},
     "output_type": "execute_result"
    }
   ],
   "source": [
    "sel.cross_validate(kn_clf,\n",
    "                   X_train,\n",
    "                   y_train,\n",
    "                   cv=3,\n",
    "                   n_jobs=2,\n",
    "                   scoring=\"f1_macro\",\n",
    "                   return_train_score=True,\n",
    "                   return_estimator=True,\n",
    "                   verbose=True\n",
    "                   )"
   ]
  },
  {
   "cell_type": "markdown",
   "metadata": {},
   "source": [
    "slightly overfitting given that we are perfect with the trainin sets"
   ]
  },
  {
   "cell_type": "code",
   "execution_count": 18,
   "metadata": {},
   "outputs": [
    {
     "data": {
      "text/plain": [
       "KNeighborsClassifier(algorithm='auto', leaf_size=5, metric='minkowski',\n",
       "                     metric_params=None, n_jobs=2, n_neighbors=6, p=2,\n",
       "                     weights='distance')"
      ]
     },
     "execution_count": 18,
     "metadata": {},
     "output_type": "execute_result"
    }
   ],
   "source": [
    "kn_clf.fit(X_train, y_train)"
   ]
  },
  {
   "cell_type": "code",
   "execution_count": 21,
   "metadata": {},
   "outputs": [],
   "source": [
    "y_pred = kn_clf.predict(X_test)"
   ]
  },
  {
   "cell_type": "code",
   "execution_count": 23,
   "metadata": {},
   "outputs": [
    {
     "data": {
      "text/plain": [
       "0.9626594820269178"
      ]
     },
     "execution_count": 23,
     "metadata": {},
     "output_type": "execute_result"
    }
   ],
   "source": [
    "metrics.f1_score(y_pred, y_test, average=\"macro\")"
   ]
  }
 ],
 "metadata": {
  "kernelspec": {
   "display_name": "minst-ensemble",
   "language": "python",
   "name": "minst-ensemble"
  },
  "language_info": {
   "codemirror_mode": {
    "name": "ipython",
    "version": 3
   },
   "file_extension": ".py",
   "mimetype": "text/x-python",
   "name": "python",
   "nbconvert_exporter": "python",
   "pygments_lexer": "ipython3",
   "version": "3.6.8"
  },
  "toc": {
   "base_numbering": 1,
   "nav_menu": {},
   "number_sections": true,
   "sideBar": true,
   "skip_h1_title": false,
   "title_cell": "Table of Contents",
   "title_sidebar": "Contents",
   "toc_cell": false,
   "toc_position": {},
   "toc_section_display": true,
   "toc_window_display": false
  },
  "varInspector": {
   "cols": {
    "lenName": 16,
    "lenType": 16,
    "lenVar": 40
   },
   "kernels_config": {
    "python": {
     "delete_cmd_postfix": "",
     "delete_cmd_prefix": "del ",
     "library": "var_list.py",
     "varRefreshCmd": "print(var_dic_list())"
    },
    "r": {
     "delete_cmd_postfix": ") ",
     "delete_cmd_prefix": "rm(",
     "library": "var_list.r",
     "varRefreshCmd": "cat(var_dic_list()) "
    }
   },
   "types_to_exclude": [
    "module",
    "function",
    "builtin_function_or_method",
    "instance",
    "_Feature"
   ],
   "window_display": false
  }
 },
 "nbformat": 4,
 "nbformat_minor": 2
}
