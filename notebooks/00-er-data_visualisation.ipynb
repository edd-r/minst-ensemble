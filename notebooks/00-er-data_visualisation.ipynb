{
 "cells": [
  {
   "cell_type": "markdown",
   "metadata": {},
   "source": [
    "# Visualising Minst data"
   ]
  },
  {
   "cell_type": "code",
   "execution_count": 31,
   "metadata": {},
   "outputs": [],
   "source": [
    "import os\n",
    "import sys\n",
    "\n",
    "import numpy as np\n",
    "import matplotlib.pyplot as plt\n",
    "\n",
    "# add project modules to the path\n",
    "path_to_module = os.path.abspath(os.path.join(os.getcwd(), \"..\", \"src/\"))\n",
    "sys.path.append(path_to_module)\n",
    "\n",
    "import src.models.train_model as train_model\n",
    "import src.visualization.visualize as vis"
   ]
  },
  {
   "cell_type": "code",
   "execution_count": 2,
   "metadata": {},
   "outputs": [
    {
     "data": {
      "application/vnd.jupyter.widget-view+json": {
       "model_id": "cac21788f2d6491494d78391d9aadb38",
       "version_major": 2,
       "version_minor": 0
      },
      "text/plain": [
       "HBox(children=(IntProgress(value=0, max=4), HTML(value='')))"
      ]
     },
     "metadata": {},
     "output_type": "display_data"
    },
    {
     "name": "stdout",
     "output_type": "stream",
     "text": [
      "\n"
     ]
    }
   ],
   "source": [
    "path_to_data = os.path.abspath(os.path.join(os.getcwd(),\n",
    "                                            \"..\",\n",
    "                                            \"data/processed/\"\n",
    "                                           ))\n",
    "\n",
    "data_dict = train_model.load_processed_data(file_path=path_to_data,\n",
    "                                            augmented_suffix=\"\",\n",
    "                                            blurred_suffix=\"\",\n",
    "                                            )"
   ]
  },
  {
   "cell_type": "code",
   "execution_count": 32,
   "metadata": {},
   "outputs": [
    {
     "name": "stderr",
     "output_type": "stream",
     "text": [
      "Creating mean images for each class label: 100%|██████████| 10/10 [00:00<00:00, 72.28it/s]\n"
     ]
    },
    {
     "data": {
      "image/png": "[encoded data removed]",
      "text/plain": [
       "<Figure size 432x288 with 10 Axes>"
      ]
     },
     "metadata": {
      "needs_background": "light"
     },
     "output_type": "display_data"
    }
   ],
   "source": [
    "scaled_mean_images = vis.average_image_by_class(X=data_dict[\"X_train\"],\n",
    "                                                y=data_dict[\"y_train\"]\n",
    "                                               )\n",
    "\n",
    "fig, axs = vis.plot_images(scaled_mean_images)"
   ]
  },
  {
   "cell_type": "code",
   "execution_count": 34,
   "metadata": {},
   "outputs": [
    {
     "data": {
      "application/vnd.jupyter.widget-view+json": {
       "model_id": "c0d38fdc21854218809447813ada00f1",
       "version_major": 2,
       "version_minor": 0
      },
      "text/plain": [
       "HBox(children=(IntProgress(value=0, max=4), HTML(value='')))"
      ]
     },
     "metadata": {},
     "output_type": "display_data"
    },
    {
     "name": "stderr",
     "output_type": "stream",
     "text": [
      "2019-09-01 00:32:53,563 - src.models.train_model - INFO - loading X_train in file /home/edd/Documents/Projects/minst-ensemble/data/processed/X_train_augmented_scaled.npy\n",
      "2019-09-01 00:32:54,004 - src.models.train_model - INFO - loading X_test in file /home/edd/Documents/Projects/minst-ensemble/data/processed/X_test_augmented_scaled.npy\n",
      "2019-09-01 00:32:54,024 - src.models.train_model - INFO - loading y_train in file /home/edd/Documents/Projects/minst-ensemble/data/processed/y_train_augmented_scaled.npy\n",
      "2019-09-01 00:32:54,025 - src.models.train_model - INFO - loading y_test in file /home/edd/Documents/Projects/minst-ensemble/data/processed/y_test_augmented_scaled.npy\n",
      "Creating mean images for each class label:  20%|██        | 2/10 [00:00<00:00, 15.19it/s]"
     ]
    },
    {
     "name": "stdout",
     "output_type": "stream",
     "text": [
      "\n"
     ]
    },
    {
     "name": "stderr",
     "output_type": "stream",
     "text": [
      "Creating mean images for each class label: 100%|██████████| 10/10 [00:00<00:00, 17.38it/s]\n"
     ]
    },
    {
     "data": {
      "image/png": "[encoded data removed]",
      "text/plain": [
       "<Figure size 432x288 with 10 Axes>"
      ]
     },
     "metadata": {
      "needs_background": "light"
     },
     "output_type": "display_data"
    }
   ],
   "source": [
    "aug_data_dict = train_model.load_processed_data(file_path=path_to_data,\n",
    "                                                blurred_suffix=\"\",\n",
    "                                            )\n",
    "\n",
    "aug_scaled_mean_images = vis.average_image_by_class(X=aug_data_dict[\"X_train\"],\n",
    "                                                y=aug_data_dict[\"y_train\"]\n",
    "                                               )\n",
    "\n",
    "fig, axs = vis.plot_images(aug_scaled_mean_images)"
   ]
  },
  {
   "cell_type": "code",
   "execution_count": 36,
   "metadata": {},
   "outputs": [
    {
     "data": {
      "application/vnd.jupyter.widget-view+json": {
       "model_id": "bf85ec94ea344c969101c5e41d4ceefc",
       "version_major": 2,
       "version_minor": 0
      },
      "text/plain": [
       "HBox(children=(IntProgress(value=0, max=4), HTML(value='')))"
      ]
     },
     "metadata": {},
     "output_type": "display_data"
    },
    {
     "name": "stderr",
     "output_type": "stream",
     "text": [
      "2019-09-01 00:34:06,391 - src.models.train_model - INFO - loading X_train in file /home/edd/Documents/Projects/minst-ensemble/data/processed/X_train_blurred_scaled.npy\n",
      "2019-09-01 00:34:11,184 - src.models.train_model - INFO - loading X_test in file /home/edd/Documents/Projects/minst-ensemble/data/processed/X_test_blurred_scaled.npy\n",
      "2019-09-01 00:34:11,867 - src.models.train_model - INFO - loading y_train in file /home/edd/Documents/Projects/minst-ensemble/data/processed/y_train_blurred_scaled.npy\n",
      "2019-09-01 00:34:11,923 - src.models.train_model - INFO - loading y_test in file /home/edd/Documents/Projects/minst-ensemble/data/processed/y_test_blurred_scaled.npy\n",
      "Creating mean images for each class label: 100%|██████████| 10/10 [00:00<00:00, 74.16it/s]\n"
     ]
    },
    {
     "name": "stdout",
     "output_type": "stream",
     "text": [
      "\n"
     ]
    },
    {
     "data": {
      "image/png": "[encoded data removed]",
      "text/plain": [
       "<Figure size 432x288 with 10 Axes>"
      ]
     },
     "metadata": {
      "needs_background": "light"
     },
     "output_type": "display_data"
    }
   ],
   "source": [
    "blur_data_dict = train_model.load_processed_data(file_path=path_to_data,\n",
    "                                                augmented_suffix=\"\",\n",
    "                                            )\n",
    "\n",
    "blur_scaled_mean_images = vis.average_image_by_class(X=blur_data_dict[\"X_train\"],\n",
    "                                                y=blur_data_dict[\"y_train\"]\n",
    "                                               )\n",
    "\n",
    "fig, axs = vis.plot_images(blur_scaled_mean_images)"
   ]
  },
  {
   "cell_type": "code",
   "execution_count": 37,
   "metadata": {},
   "outputs": [
    {
     "data": {
      "application/vnd.jupyter.widget-view+json": {
       "model_id": "1c2e772225cd4744a09c82ddbd920a0f",
       "version_major": 2,
       "version_minor": 0
      },
      "text/plain": [
       "HBox(children=(IntProgress(value=0, max=4), HTML(value='')))"
      ]
     },
     "metadata": {},
     "output_type": "display_data"
    },
    {
     "name": "stderr",
     "output_type": "stream",
     "text": [
      "2019-09-01 00:34:30,774 - src.models.train_model - INFO - loading X_train in file /home/edd/Documents/Projects/minst-ensemble/data/processed/X_train_augmented_blurred_scaled.npy\n",
      "2019-09-01 00:34:52,794 - src.models.train_model - INFO - loading X_test in file /home/edd/Documents/Projects/minst-ensemble/data/processed/X_test_augmented_blurred_scaled.npy\n",
      "2019-09-01 00:34:53,547 - src.models.train_model - INFO - loading y_train in file /home/edd/Documents/Projects/minst-ensemble/data/processed/y_train_augmented_blurred_scaled.npy\n",
      "2019-09-01 00:34:53,589 - src.models.train_model - INFO - loading y_test in file /home/edd/Documents/Projects/minst-ensemble/data/processed/y_test_augmented_blurred_scaled.npy\n",
      "Creating mean images for each class label:  10%|█         | 1/10 [00:00<00:01,  5.96it/s]"
     ]
    },
    {
     "name": "stdout",
     "output_type": "stream",
     "text": [
      "\n"
     ]
    },
    {
     "name": "stderr",
     "output_type": "stream",
     "text": [
      "Creating mean images for each class label: 100%|██████████| 10/10 [00:00<00:00, 10.77it/s]\n"
     ]
    },
    {
     "data": {
      "image/png": "[encoded data removed]",
      "text/plain": [
       "<Figure size 432x288 with 10 Axes>"
      ]
     },
     "metadata": {
      "needs_background": "light"
     },
     "output_type": "display_data"
    }
   ],
   "source": [
    "aug_blur_data_dict = train_model.load_processed_data(file_path=path_to_data)\n",
    "\n",
    "aug_blur_scaled_mean_images = vis.average_image_by_class(X=aug_blur_data_dict[\"X_train\"],\n",
    "                                                y=aug_blur_data_dict[\"y_train\"]\n",
    "                                               )\n",
    "\n",
    "fig, axs = vis.plot_images(aug_blur_scaled_mean_images)"
   ]
  },
  {
   "cell_type": "code",
   "execution_count": null,
   "metadata": {},
   "outputs": [],
   "source": []
  },
  {
   "cell_type": "code",
   "execution_count": 29,
   "metadata": {},
   "outputs": [
    {
     "data": {
      "text/plain": [
       "array([[ 0.00000000e+00,  0.00000000e+00,  0.00000000e+00,\n",
       "         0.00000000e+00,  0.00000000e+00,  0.00000000e+00,\n",
       "         0.00000000e+00,  0.00000000e+00,  0.00000000e+00,\n",
       "         0.00000000e+00,  0.00000000e+00,  0.00000000e+00,\n",
       "        -4.41807799e-03, -5.75481961e-03, -4.08251693e-03,\n",
       "        -4.08251693e-03,  0.00000000e+00,  0.00000000e+00,\n",
       "         0.00000000e+00,  0.00000000e+00,  0.00000000e+00,\n",
       "         0.00000000e+00,  0.00000000e+00,  0.00000000e+00,\n",
       "         0.00000000e+00,  0.00000000e+00,  0.00000000e+00,\n",
       "         0.00000000e+00],\n",
       "       [ 0.00000000e+00,  0.00000000e+00,  0.00000000e+00,\n",
       "         0.00000000e+00, -4.08251693e-03, -4.70968827e-03,\n",
       "        -8.79934640e-03, -1.15905591e-02, -1.47589798e-02,\n",
       "        -1.92848546e-02, -2.46717975e-02, -2.90710271e-02,\n",
       "        -3.05926583e-02, -3.11640127e-02, -2.41497826e-02,\n",
       "        -1.71349639e-02, -2.95463379e-02, -2.83833960e-02,\n",
       "        -2.31191906e-02, -1.91666260e-02, -1.67723008e-02,\n",
       "        -1.09963601e-02, -8.32486080e-03, -4.38069356e-03,\n",
       "         0.00000000e+00,  0.00000000e+00,  0.00000000e+00,\n",
       "         0.00000000e+00],\n",
       "       [ 0.00000000e+00,  0.00000000e+00, -4.08251693e-03,\n",
       "        -5.39534598e-03, -8.52241235e-03, -1.19850363e-02,\n",
       "        -1.76534777e-02, -2.77108989e-02, -3.70200943e-02,\n",
       "        -5.21512802e-02, -6.60496937e-02, -8.13944550e-02,\n",
       "        -9.69440522e-02, -1.07316970e-01, -1.17120470e-01,\n",
       "        -1.22824648e-01, -1.29823456e-01, -1.29070829e-01,\n",
       "        -1.19282415e-01, -1.00020524e-01, -7.80229814e-02,\n",
       "        -5.69956130e-02, -3.96576839e-02, -2.37283861e-02,\n",
       "        -1.40883463e-02, -7.83084068e-03,  0.00000000e+00,\n",
       "         0.00000000e+00],\n",
       "       [ 0.00000000e+00,  0.00000000e+00,  4.97477937e-03,\n",
       "        -6.62150639e-03, -1.40708170e-02, -2.21468098e-02,\n",
       "        -3.51801368e-02, -5.45902824e-02, -7.87607670e-02,\n",
       "        -1.04810000e-01, -1.32915938e-01, -1.60893363e-01,\n",
       "        -1.84323982e-01, -1.94784629e-01, -2.10626241e-01,\n",
       "        -2.22955787e-01, -2.30181146e-01, -2.19972914e-01,\n",
       "        -1.98256430e-01, -1.66775035e-01, -1.32648231e-01,\n",
       "        -9.57931122e-02, -6.74380853e-02, -4.46073457e-02,\n",
       "        -3.02019676e-02, -1.52412436e-02, -5.28371965e-03,\n",
       "         0.00000000e+00],\n",
       "       [ 0.00000000e+00, -4.08251693e-03,  2.40224327e-02,\n",
       "        -9.50538594e-03, -2.10625180e-02, -4.48074926e-02,\n",
       "        -7.41871062e-02, -1.12342255e-01, -1.53985987e-01,\n",
       "        -1.97295332e-01, -2.28825924e-01, -2.36126200e-01,\n",
       "        -1.88196455e-01, -1.03260281e-01, -3.01926664e-02,\n",
       "        -5.90869754e-03, -6.14428619e-03,  2.73394911e-02,\n",
       "         5.12029949e-02,  8.48931109e-02,  7.65542777e-02,\n",
       "         2.93082058e-02, -1.74093928e-02, -4.49986953e-02,\n",
       "        -4.91252399e-02, -3.89534819e-02, -1.42523852e-02,\n",
       "        -5.77049806e-03],\n",
       "       [ 0.00000000e+00,  0.00000000e+00,  4.52508197e-03,\n",
       "        -9.55643897e-03, -4.57720412e-02, -8.26745684e-02,\n",
       "        -1.31797100e-01, -1.89794158e-01, -2.55265769e-01,\n",
       "        -3.23297479e-01, -3.74213138e-01, -3.92318325e-01,\n",
       "        -3.36576973e-01, -2.09409592e-01, -8.60020500e-02,\n",
       "        -1.76979531e-02, -2.45411275e-03,  9.43492958e-03,\n",
       "         2.32276368e-02,  2.01632274e-02, -4.81223067e-03,\n",
       "        -6.00908467e-02, -1.06644866e-01, -1.17152829e-01,\n",
       "        -1.02677231e-01, -7.40696809e-02, -3.01578900e-02,\n",
       "        -8.20891834e-03],\n",
       "       [ 0.00000000e+00, -5.57015293e-03, -1.40569185e-02,\n",
       "        -2.82541084e-02, -7.52551539e-02, -1.28950379e-01,\n",
       "        -1.93446314e-01, -2.67823400e-01, -3.53221991e-01,\n",
       "        -4.46485839e-01, -5.31540458e-01, -5.78830613e-01,\n",
       "        -5.40330931e-01, -3.93845296e-01, -2.18956693e-01,\n",
       "        -1.08411721e-01, -8.65255710e-02, -1.10462065e-01,\n",
       "        -1.33379953e-01, -1.72224825e-01, -2.06647805e-01,\n",
       "        -2.35663541e-01, -2.32010087e-01, -2.00564012e-01,\n",
       "        -1.55095515e-01, -1.04029347e-01, -4.83176220e-02,\n",
       "        -1.47080183e-02],\n",
       "       [-4.08251693e-03, -1.32310093e-02, -2.36407288e-02,\n",
       "        -5.74645036e-02, -1.10112720e-01, -1.75852294e-01,\n",
       "        -2.54306008e-01, -3.43771638e-01, -4.49677964e-01,\n",
       "        -5.68777668e-01, -6.88767846e-01, -7.70299161e-01,\n",
       "        -7.27671813e-01, -5.18983512e-01, -2.43181116e-01,\n",
       "        -5.38171787e-02, -4.76591191e-02, -1.56677150e-01,\n",
       "        -2.90103417e-01, -3.81570632e-01, -4.17495312e-01,\n",
       "        -3.96193874e-01, -3.35627298e-01, -2.62238229e-01,\n",
       "        -1.88149786e-01, -1.21096676e-01, -5.62666882e-02,\n",
       "        -1.53906680e-02],\n",
       "       [-5.02549298e-03, -1.73205192e-02, -4.27507308e-02,\n",
       "        -8.41738761e-02, -1.37626143e-01, -2.09072962e-01,\n",
       "        -2.95943235e-01, -4.00586901e-01, -5.24581968e-01,\n",
       "        -6.67036919e-01, -8.13189815e-01, -8.92335474e-01,\n",
       "        -8.00231087e-01, -4.61491419e-01, -2.77988023e-02,\n",
       "         2.46487135e-01,  1.76860319e-01, -9.36301315e-02,\n",
       "        -3.79652911e-01, -5.47032923e-01, -5.73441320e-01,\n",
       "        -5.00887396e-01, -3.96858104e-01, -2.87196706e-01,\n",
       "        -1.93781034e-01, -1.20683815e-01, -5.39356285e-02,\n",
       "        -1.35055434e-02],\n",
       "       [-5.90571261e-03, -1.79181839e-02, -5.29890369e-02,\n",
       "        -9.27332244e-02, -1.49269753e-01, -2.24052831e-01,\n",
       "        -3.19352934e-01, -4.35462135e-01, -5.75580247e-01,\n",
       "        -7.35357744e-01, -8.73292323e-01, -9.12921453e-01,\n",
       "        -7.28374300e-01, -2.45016799e-01,  3.55244612e-01,\n",
       "         6.74077037e-01,  4.46761789e-01, -4.72836738e-02,\n",
       "        -4.57683700e-01, -6.57584883e-01, -6.49034115e-01,\n",
       "        -5.39218119e-01, -4.09522205e-01, -2.85253429e-01,\n",
       "        -1.79048435e-01, -1.04406715e-01, -4.59592293e-02,\n",
       "        -1.41308656e-02],\n",
       "       [-5.77280519e-03, -1.81026644e-02, -5.28031747e-02,\n",
       "        -9.22058067e-02, -1.46034140e-01, -2.25844153e-01,\n",
       "        -3.29518766e-01, -4.57469964e-01, -6.11270219e-01,\n",
       "        -7.71186532e-01, -8.80054585e-01, -8.59771670e-01,\n",
       "        -6.01394742e-01,  2.70073895e-02,  8.05901516e-01,\n",
       "         1.06775259e+00,  5.69778034e-01, -1.20316240e-01,\n",
       "        -5.85257276e-01, -7.31795875e-01, -6.66481459e-01,\n",
       "        -5.27716148e-01, -3.92164761e-01, -2.68856270e-01,\n",
       "        -1.59175499e-01, -7.86489928e-02, -3.26766637e-02,\n",
       "        -8.30104216e-03],\n",
       "       [-7.05517396e-03, -1.82710002e-02, -4.65714302e-02,\n",
       "        -8.09113678e-02, -1.34549544e-01, -2.23213740e-01,\n",
       "        -3.36717723e-01, -4.79595600e-01, -6.42096248e-01,\n",
       "        -7.97380725e-01, -8.69429832e-01, -8.07025156e-01,\n",
       "        -5.06207218e-01,  2.70559864e-01,  1.14468815e+00,\n",
       "         1.20765918e+00,  4.58233548e-01, -3.49757314e-01,\n",
       "        -7.39321256e-01, -7.69847244e-01, -6.44468285e-01,\n",
       "        -4.94984288e-01, -3.67048915e-01, -2.56395249e-01,\n",
       "        -1.49256085e-01, -5.63583086e-02, -2.28723151e-02,\n",
       "         5.95643132e-03],\n",
       "       [-5.30435130e-03, -1.62383999e-02, -3.60887967e-02,\n",
       "        -6.56998210e-02, -1.24216617e-01, -2.25281009e-01,\n",
       "        -3.50588319e-01, -5.04699897e-01, -6.73033655e-01,\n",
       "        -8.14992458e-01, -8.64186554e-01, -7.83425192e-01,\n",
       "        -4.62477097e-01,  4.48190630e-01,  1.23776563e+00,\n",
       "         1.06052096e+00,  1.36482524e-01, -6.60125995e-01,\n",
       "        -8.72705352e-01, -7.77440499e-01, -6.12424253e-01,\n",
       "        -4.66576112e-01, -3.53699922e-01, -2.54415179e-01,\n",
       "        -1.53643887e-01, -5.03830657e-02, -2.07862032e-02,\n",
       "         6.00097714e-03],\n",
       "       [ 3.22495827e-02, -1.09343854e-02, -2.53284950e-02,\n",
       "        -5.42853847e-02, -1.21284390e-01, -2.37829538e-01,\n",
       "        -3.72069469e-01, -5.30967358e-01, -6.95852972e-01,\n",
       "        -8.26118541e-01, -8.60570986e-01, -7.79757447e-01,\n",
       "        -4.21687445e-01,  5.93893206e-01,  1.14548212e+00,\n",
       "         8.03361665e-01, -2.78655652e-01, -9.28915755e-01,\n",
       "        -9.45618374e-01, -7.69920837e-01, -5.92297653e-01,\n",
       "        -4.58640907e-01, -3.54783494e-01, -2.63067844e-01,\n",
       "        -1.64479778e-01, -5.79882370e-02, -2.27839015e-02,\n",
       "        -7.40432376e-03],\n",
       "       [-4.08251693e-03, -7.98834543e-03, -1.77453424e-02,\n",
       "        -4.71414705e-02, -1.27112204e-01, -2.56695690e-01,\n",
       "        -3.94378773e-01, -5.49083361e-01, -7.01526252e-01,\n",
       "        -8.15345739e-01, -8.46836778e-01, -7.63502257e-01,\n",
       "        -3.02708375e-01,  7.00728367e-01,  1.02027446e+00,\n",
       "         5.17889428e-01, -6.39188856e-01, -1.05302695e+00,\n",
       "        -9.52548352e-01, -7.60437846e-01, -5.95480023e-01,\n",
       "        -4.69835662e-01, -3.67259997e-01, -2.72792771e-01,\n",
       "        -1.72523631e-01, -6.83568181e-02, -2.36561790e-02,\n",
       "        -6.98490193e-03],\n",
       "       [-4.77028006e-03, -4.18942802e-03, -1.28219067e-02,\n",
       "        -5.00839008e-02, -1.39344199e-01, -2.76858187e-01,\n",
       "        -4.12057085e-01, -5.51838767e-01, -6.86545850e-01,\n",
       "        -7.81428140e-01, -8.02803198e-01, -6.55066600e-01,\n",
       "        -6.81849586e-02,  7.77724313e-01,  9.41396512e-01,\n",
       "         2.42772727e-01, -7.94179741e-01, -1.03408042e+00,\n",
       "        -9.16813285e-01, -7.50808089e-01, -6.08831247e-01,\n",
       "        -4.84683456e-01, -3.79740894e-01, -2.78146424e-01,\n",
       "        -1.75245917e-01, -7.68250696e-02, -2.93298265e-02,\n",
       "        -9.11024024e-03],\n",
       "       [-4.08251693e-03,  3.07401901e-03, -1.51359422e-02,\n",
       "        -6.06354219e-02, -1.56339853e-01, -2.96325851e-01,\n",
       "        -4.21158123e-01, -5.43290828e-01, -6.52902523e-01,\n",
       "        -7.17217855e-01, -6.78664968e-01, -4.05807977e-01,\n",
       "         2.26072754e-01,  8.76973830e-01,  8.66964871e-01,\n",
       "         2.67789378e-02, -7.89884422e-01, -9.61088722e-01,\n",
       "        -8.72392000e-01, -7.40593674e-01, -6.14052995e-01,\n",
       "        -4.90844312e-01, -3.78596828e-01, -2.72919498e-01,\n",
       "        -1.71668971e-01, -8.34593118e-02, -3.02992685e-02,\n",
       "        -8.93964748e-03],\n",
       "       [ 0.00000000e+00,  1.41692850e-02, -2.39204708e-02,\n",
       "        -7.39001757e-02, -1.77199664e-01, -3.12111242e-01,\n",
       "        -4.26998567e-01, -5.31123605e-01, -6.03472427e-01,\n",
       "        -6.12448028e-01, -4.65908664e-01, -8.04772404e-02,\n",
       "         5.05328398e-01,  9.59776787e-01,  7.24739277e-01,\n",
       "        -1.03405085e-01, -7.47379886e-01, -9.03365509e-01,\n",
       "        -8.43595794e-01, -7.33644069e-01, -6.08952926e-01,\n",
       "        -4.81183411e-01, -3.64124403e-01, -2.57484840e-01,\n",
       "        -1.63714595e-01, -8.52887449e-02, -2.98709171e-02,\n",
       "        -9.28011571e-03],\n",
       "       [-4.52281479e-03, -2.09905566e-03, -3.31833115e-02,\n",
       "        -9.13048630e-02, -1.99108031e-01, -3.26871466e-01,\n",
       "        -4.35916083e-01, -5.21226283e-01, -5.56082823e-01,\n",
       "        -4.90771205e-01, -2.56968895e-01,  1.64533997e-01,\n",
       "         6.39448436e-01,  8.77551735e-01,  5.06138122e-01,\n",
       "        -2.01498544e-01, -7.32226309e-01, -8.85563719e-01,\n",
       "        -8.37258444e-01, -7.19816140e-01, -5.84711115e-01,\n",
       "        -4.55407270e-01, -3.42050857e-01, -2.40380033e-01,\n",
       "        -1.52184864e-01, -7.91727115e-02, -2.10976177e-02,\n",
       "         1.88767766e-02],\n",
       "       [ 3.22495827e-02, -1.92331165e-05, -3.89744600e-02,\n",
       "        -1.02714282e-01, -2.11552064e-01, -3.35405123e-01,\n",
       "        -4.38643589e-01, -5.11387709e-01, -5.11395571e-01,\n",
       "        -3.91439461e-01, -1.25593293e-01,  2.37367392e-01,\n",
       "         5.37731837e-01,  6.00437916e-01,  2.36445740e-01,\n",
       "        -3.14174167e-01, -7.37811882e-01, -8.74671529e-01,\n",
       "        -8.11669830e-01, -6.79323886e-01, -5.39815183e-01,\n",
       "        -4.14893385e-01, -3.07276179e-01, -2.12359873e-01,\n",
       "        -1.32349393e-01, -7.02712803e-02, -2.27503525e-02,\n",
       "         2.00215809e-02],\n",
       "       [ 0.00000000e+00, -1.03421049e-02, -4.30996262e-02,\n",
       "        -1.08413282e-01, -2.06767248e-01, -3.19178455e-01,\n",
       "        -4.17756222e-01, -4.78071486e-01, -4.57898488e-01,\n",
       "        -3.22959947e-01, -9.26914248e-02,  1.47007169e-01,\n",
       "         2.85020620e-01,  2.56031125e-01, -1.81611067e-02,\n",
       "        -4.09936506e-01, -7.15972389e-01, -8.11735044e-01,\n",
       "        -7.32785457e-01, -5.95690823e-01, -4.66960072e-01,\n",
       "        -3.53905496e-01, -2.58375068e-01, -1.79363220e-01,\n",
       "        -1.12427436e-01, -5.82394934e-02, -1.94639805e-02,\n",
       "         2.01706657e-02],\n",
       "       [ 3.22495827e-02, -8.84048859e-03, -3.88925624e-02,\n",
       "        -9.67754919e-02, -1.78189131e-01, -2.64659486e-01,\n",
       "        -3.49384289e-01, -4.01742776e-01, -3.71308129e-01,\n",
       "        -2.64252029e-01, -1.17055487e-01, -4.30320868e-03,\n",
       "         1.99810243e-02, -3.01418603e-02, -1.83379288e-01,\n",
       "        -4.16342787e-01, -6.09615522e-01, -6.71132634e-01,\n",
       "        -5.99105513e-01, -4.84761350e-01, -3.74843220e-01,\n",
       "        -2.80135416e-01, -2.05356434e-01, -1.43476897e-01,\n",
       "        -8.76547149e-02, -4.31864352e-02, -8.94230399e-03,\n",
       "        -4.08251693e-03],\n",
       "       [ 3.22495827e-02,  3.05276825e-03, -3.17021099e-02,\n",
       "        -7.62054808e-02, -1.28157986e-01, -1.76083145e-01,\n",
       "        -2.40769101e-01, -2.70194910e-01, -2.38610850e-01,\n",
       "        -1.74684266e-01, -1.15749983e-01, -1.06282749e-01,\n",
       "        -1.31211276e-01, -1.52988276e-01, -1.84181534e-01,\n",
       "        -2.96222298e-01, -4.19708823e-01, -4.79266963e-01,\n",
       "        -4.46076811e-01, -3.64631531e-01, -2.80235868e-01,\n",
       "        -2.08243574e-01, -1.54968644e-01, -1.07346061e-01,\n",
       "        -6.78877454e-02, -2.69708521e-02,  1.33720378e-02,\n",
       "        -4.08251693e-03],\n",
       "       [ 0.00000000e+00,  0.00000000e+00, -2.27387266e-02,\n",
       "        -5.16847833e-02, -6.96882686e-02, -7.96856837e-02,\n",
       "        -1.10232995e-01, -1.23562972e-01, -9.86947826e-02,\n",
       "        -7.30242230e-02, -8.71086012e-02, -1.41739528e-01,\n",
       "        -1.87529287e-01, -1.78177328e-01, -1.41119355e-01,\n",
       "        -1.77079698e-01, -2.67868095e-01, -3.33109808e-01,\n",
       "        -3.22464540e-01, -2.62062694e-01, -1.96942598e-01,\n",
       "        -1.44636835e-01, -1.04149239e-01, -7.27664242e-02,\n",
       "        -3.65064764e-02, -6.47470057e-03,  3.61262974e-02,\n",
       "         0.00000000e+00],\n",
       "       [ 0.00000000e+00,  0.00000000e+00, -1.03527008e-02,\n",
       "        -2.87152061e-02, -4.41233088e-02, -4.64848774e-02,\n",
       "        -7.87799991e-02, -1.16833487e-01, -1.55534769e-01,\n",
       "        -1.92977943e-01, -2.47027022e-01, -3.06397972e-01,\n",
       "        -3.41260613e-01, -3.19904838e-01, -2.76659227e-01,\n",
       "        -2.70599059e-01, -2.83752722e-01, -2.77552183e-01,\n",
       "        -2.38529374e-01, -1.85745877e-01, -1.40506777e-01,\n",
       "        -9.65629476e-02, -6.90864119e-02, -4.46036004e-02,\n",
       "        -2.57524359e-02, -3.46648041e-03,  1.81059355e-03,\n",
       "         0.00000000e+00],\n",
       "       [ 0.00000000e+00,  0.00000000e+00, -6.66430111e-03,\n",
       "        -1.09642132e-02, -2.76044516e-02, -5.02321598e-02,\n",
       "        -8.46382352e-02, -1.25212892e-01, -1.68845663e-01,\n",
       "        -2.15753383e-01, -2.60851633e-01, -2.88443357e-01,\n",
       "        -2.97219159e-01, -2.88670994e-01, -2.72077389e-01,\n",
       "        -2.56888438e-01, -2.30847361e-01, -1.99944767e-01,\n",
       "        -1.63691052e-01, -1.27665996e-01, -9.39651393e-02,\n",
       "        -6.56832591e-02, -4.59265310e-02, -2.87188097e-02,\n",
       "        -1.56930365e-02, -5.67530616e-03, -4.08251693e-03,\n",
       "         0.00000000e+00],\n",
       "       [ 0.00000000e+00,  0.00000000e+00,  0.00000000e+00,\n",
       "        -4.08251693e-03, -1.51213939e-02, -3.13695545e-02,\n",
       "        -5.33302349e-02, -7.92282669e-02, -1.08376650e-01,\n",
       "        -1.33979068e-01, -1.57156731e-01, -1.74923106e-01,\n",
       "        -1.82626897e-01, -1.80535341e-01, -1.69587004e-01,\n",
       "        -1.52182442e-01, -1.35069431e-01, -1.16480299e-01,\n",
       "        -9.39512541e-02, -7.25768871e-02, -5.23643597e-02,\n",
       "        -3.63829995e-02, -2.15030637e-02, -1.30192791e-02,\n",
       "        -4.49421517e-03, -4.08251693e-03,  0.00000000e+00,\n",
       "         0.00000000e+00],\n",
       "       [ 0.00000000e+00,  0.00000000e+00,  0.00000000e+00,\n",
       "         0.00000000e+00, -5.79016363e-03, -9.05384592e-03,\n",
       "        -1.60054430e-02, -2.21197601e-02, -2.68459958e-02,\n",
       "        -3.18450632e-02, -4.37484087e-02, -4.72829474e-02,\n",
       "        -5.31388046e-02, -5.66228194e-02, -6.03383556e-02,\n",
       "        -5.62950014e-02, -5.13665378e-02, -4.26322798e-02,\n",
       "        -3.31710271e-02, -2.24628830e-02, -1.60690870e-02,\n",
       "        -1.14322028e-02, -9.00729450e-03, -5.77039393e-03,\n",
       "         0.00000000e+00,  0.00000000e+00,  0.00000000e+00,\n",
       "         0.00000000e+00]])"
      ]
     },
     "execution_count": 29,
     "metadata": {},
     "output_type": "execute_result"
    }
   ],
   "source": [
    "data_dict[\"X_train\"][data_dict[\"y_train\"]==1].mean(axis=0).reshape(28,28)"
   ]
  }
 ],
 "metadata": {
  "kernelspec": {
   "display_name": "minst-ensemble",
   "language": "python",
   "name": "minst-ensemble"
  },
  "language_info": {
   "codemirror_mode": {
    "name": "ipython",
    "version": 3
   },
   "file_extension": ".py",
   "mimetype": "text/x-python",
   "name": "python",
   "nbconvert_exporter": "python",
   "pygments_lexer": "ipython3",
   "version": "3.6.8"
  },
  "toc": {
   "base_numbering": 1,
   "nav_menu": {},
   "number_sections": true,
   "sideBar": true,
   "skip_h1_title": false,
   "title_cell": "Table of Contents",
   "title_sidebar": "Contents",
   "toc_cell": false,
   "toc_position": {},
   "toc_section_display": true,
   "toc_window_display": false
  },
  "varInspector": {
   "cols": {
    "lenName": 16,
    "lenType": 16,
    "lenVar": 40
   },
   "kernels_config": {
    "python": {
     "delete_cmd_postfix": "",
     "delete_cmd_prefix": "del ",
     "library": "var_list.py",
     "varRefreshCmd": "print(var_dic_list())"
    },
    "r": {
     "delete_cmd_postfix": ") ",
     "delete_cmd_prefix": "rm(",
     "library": "var_list.r",
     "varRefreshCmd": "cat(var_dic_list()) "
    }
   },
   "types_to_exclude": [
    "module",
    "function",
    "builtin_function_or_method",
    "instance",
    "_Feature"
   ],
   "window_display": false
  }
 },
 "nbformat": 4,
 "nbformat_minor": 2
}
