{
 "cells": [
  {
   "cell_type": "code",
   "execution_count": 126,
   "metadata": {},
   "outputs": [],
   "source": [
    "import os\n",
    "import sys\n",
    "import importlib\n",
    "\n",
    "import pandas as pd\n",
    "import numpy as np\n",
    "import seaborn as sb\n",
    "import sklearn.model_selection as sel\n",
    "import sklearn.metrics as metrics\n",
    "import sklearn.ensemble as ensemble\n",
    "\n",
    "from sklearn import svm\n",
    "\n",
    "\n",
    "# add project modules to the path\n",
    "path_to_module = os.path.abspath(os.path.join(os.getcwd(),\"..\",\"src/\"))\n",
    "sys.path.append(path_to_module)\n",
    "\n",
    "import src.models.train_model as train"
   ]
  },
  {
   "cell_type": "code",
   "execution_count": 3,
   "metadata": {},
   "outputs": [
    {
     "name": "stderr",
     "output_type": "stream",
     "text": [
      "loading files from /home/edd/Documents/Projects/minst-ensemble/data/processed: 100%|██████████| 4/4 [00:00<00:00, 28.76it/s]\n"
     ]
    }
   ],
   "source": [
    "path_to_data = os.path.abspath(os.path.join(os.getcwd(),\n",
    "                                            \"..\",\n",
    "                                            \"data/processed/\"\n",
    "                                           ))\n",
    "\n",
    "data_dict = train.load_processed_data(file_path=path_to_data)"
   ]
  },
  {
   "cell_type": "code",
   "execution_count": 4,
   "metadata": {},
   "outputs": [],
   "source": [
    "X = data_dict[\"X_train\"]\n",
    "y = data_dict[\"y_train\"]"
   ]
  },
  {
   "cell_type": "code",
   "execution_count": 30,
   "metadata": {},
   "outputs": [],
   "source": [
    "X_train, X_test, y_train, y_test = sel.train_test_split(X,\n",
    "                                                    y,\n",
    "                                                    test_size=0.3,\n",
    "                                                    random_state=42,\n",
    "                                                    shuffle=True,\n",
    "                                                    stratify=y)"
   ]
  },
  {
   "cell_type": "code",
   "execution_count": 40,
   "metadata": {},
   "outputs": [],
   "source": [
    "X_train_smol, X_test_smol, y_train_smol, y_test_smol = sel.train_test_split(X,\n",
    "                                                    y,\n",
    "                                                    test_size=0.09,\n",
    "                                                    train_size=0.21,\n",
    "                                                    random_state=42,\n",
    "                                                    shuffle=True,\n",
    "                                                    stratify=y)"
   ]
  },
  {
   "cell_type": "markdown",
   "metadata": {},
   "source": [
    "which kernel is best kernel?"
   ]
  },
  {
   "cell_type": "code",
   "execution_count": 33,
   "metadata": {},
   "outputs": [],
   "source": [
    "svc_params = {\n",
    "              \"kernel\": [\"linear\", \"poly\", \"rbf\", \"sigmoid\"]\n",
    "             }"
   ]
  },
  {
   "cell_type": "code",
   "execution_count": 34,
   "metadata": {},
   "outputs": [],
   "source": [
    "clf = svm.SVC(verbose=True)"
   ]
  },
  {
   "cell_type": "code",
   "execution_count": null,
   "metadata": {},
   "outputs": [],
   "source": [
    "grid_search = sel.GridSearchCV(estimator=clf, \n",
    "                                 param_grid=svc_params,\n",
    "                                 scoring = \"f1_macro\",\n",
    "                                 n_jobs = 2,\n",
    "                                 cv=3,\n",
    "                                 verbose = 10)"
   ]
  },
  {
   "cell_type": "markdown",
   "metadata": {},
   "source": [
    "use small files as this would take forever"
   ]
  },
  {
   "cell_type": "code",
   "execution_count": 43,
   "metadata": {},
   "outputs": [
    {
     "name": "stdout",
     "output_type": "stream",
     "text": [
      "Fitting 3 folds for each of 4 candidates, totalling 12 fits\n"
     ]
    },
    {
     "name": "stderr",
     "output_type": "stream",
     "text": [
      "[Parallel(n_jobs=2)]: Using backend LokyBackend with 2 concurrent workers.\n",
      "[Parallel(n_jobs=2)]: Done   1 tasks      | elapsed: 19.0min\n",
      "[Parallel(n_jobs=2)]: Done   4 tasks      | elapsed: 20.6min\n",
      "[Parallel(n_jobs=2)]: Done   9 tasks      | elapsed: 46.1min\n",
      "[Parallel(n_jobs=2)]: Done  12 out of  12 | elapsed: 56.2min finished\n",
      "/home/edd/.local/share/virtualenvs/minst-ensemble-RQgeS-tp/lib/python3.6/site-packages/sklearn/svm/base.py:193: FutureWarning: The default value of gamma will change from 'auto' to 'scale' in version 0.22 to account better for unscaled features. Set gamma explicitly to 'auto' or 'scale' to avoid this warning.\n",
      "  \"avoid this warning.\", FutureWarning)\n"
     ]
    },
    {
     "name": "stdout",
     "output_type": "stream",
     "text": [
      "[LibSVM]"
     ]
    },
    {
     "data": {
      "text/plain": [
       "GridSearchCV(cv=3, error_score='raise-deprecating',\n",
       "             estimator=SVC(C=1.0, cache_size=200, class_weight=None, coef0=0.0,\n",
       "                           decision_function_shape='ovr', degree=3,\n",
       "                           gamma='auto_deprecated', kernel='rbf', max_iter=-1,\n",
       "                           probability=False, random_state=None, shrinking=True,\n",
       "                           tol=0.001, verbose=True),\n",
       "             iid='warn', n_jobs=2,\n",
       "             param_grid={'kernel': ['linear', 'poly', 'rbf', 'sigmoid']},\n",
       "             pre_dispatch='2*n_jobs', refit=True, return_train_score=False,\n",
       "             scoring='f1_macro', verbose=10)"
      ]
     },
     "execution_count": 43,
     "metadata": {},
     "output_type": "execute_result"
    }
   ],
   "source": [
    "grid_search.fit(X_train_smol, y_train_smol)"
   ]
  },
  {
   "cell_type": "code",
   "execution_count": 52,
   "metadata": {},
   "outputs": [
    {
     "data": {
      "text/html": [
       "<div>\n",
       "<style scoped>\n",
       "    .dataframe tbody tr th:only-of-type {\n",
       "        vertical-align: middle;\n",
       "    }\n",
       "\n",
       "    .dataframe tbody tr th {\n",
       "        vertical-align: top;\n",
       "    }\n",
       "\n",
       "    .dataframe thead th {\n",
       "        text-align: right;\n",
       "    }\n",
       "</style>\n",
       "<table border=\"1\" class=\"dataframe\">\n",
       "  <thead>\n",
       "    <tr style=\"text-align: right;\">\n",
       "      <th></th>\n",
       "      <th>mean_fit_time</th>\n",
       "      <th>std_fit_time</th>\n",
       "      <th>mean_score_time</th>\n",
       "      <th>std_score_time</th>\n",
       "      <th>param_kernel</th>\n",
       "      <th>params</th>\n",
       "      <th>split0_test_score</th>\n",
       "      <th>split1_test_score</th>\n",
       "      <th>split2_test_score</th>\n",
       "      <th>mean_test_score</th>\n",
       "      <th>std_test_score</th>\n",
       "      <th>rank_test_score</th>\n",
       "    </tr>\n",
       "  </thead>\n",
       "  <tbody>\n",
       "    <tr>\n",
       "      <td>0</td>\n",
       "      <td>1085.362222</td>\n",
       "      <td>21.757832</td>\n",
       "      <td>43.356639</td>\n",
       "      <td>2.182750</td>\n",
       "      <td>linear</td>\n",
       "      <td>{'kernel': 'linear'}</td>\n",
       "      <td>0.664146</td>\n",
       "      <td>0.662834</td>\n",
       "      <td>0.664686</td>\n",
       "      <td>0.663889</td>\n",
       "      <td>0.000778</td>\n",
       "      <td>3</td>\n",
       "    </tr>\n",
       "    <tr>\n",
       "      <td>1</td>\n",
       "      <td>29.973888</td>\n",
       "      <td>0.384091</td>\n",
       "      <td>14.112149</td>\n",
       "      <td>0.069193</td>\n",
       "      <td>poly</td>\n",
       "      <td>{'kernel': 'poly'}</td>\n",
       "      <td>0.947785</td>\n",
       "      <td>0.948393</td>\n",
       "      <td>0.947712</td>\n",
       "      <td>0.947963</td>\n",
       "      <td>0.000305</td>\n",
       "      <td>1</td>\n",
       "    </tr>\n",
       "    <tr>\n",
       "      <td>2</td>\n",
       "      <td>454.907223</td>\n",
       "      <td>6.513780</td>\n",
       "      <td>62.902244</td>\n",
       "      <td>0.306357</td>\n",
       "      <td>rbf</td>\n",
       "      <td>{'kernel': 'rbf'}</td>\n",
       "      <td>0.863143</td>\n",
       "      <td>0.866958</td>\n",
       "      <td>0.865564</td>\n",
       "      <td>0.865221</td>\n",
       "      <td>0.001576</td>\n",
       "      <td>2</td>\n",
       "    </tr>\n",
       "    <tr>\n",
       "      <td>3</td>\n",
       "      <td>437.872215</td>\n",
       "      <td>2.860258</td>\n",
       "      <td>93.743195</td>\n",
       "      <td>2.242823</td>\n",
       "      <td>sigmoid</td>\n",
       "      <td>{'kernel': 'sigmoid'}</td>\n",
       "      <td>0.043294</td>\n",
       "      <td>0.044228</td>\n",
       "      <td>0.041975</td>\n",
       "      <td>0.043166</td>\n",
       "      <td>0.000924</td>\n",
       "      <td>4</td>\n",
       "    </tr>\n",
       "  </tbody>\n",
       "</table>\n",
       "</div>"
      ],
      "text/plain": [
       "   mean_fit_time  std_fit_time  mean_score_time  std_score_time param_kernel  \\\n",
       "0    1085.362222     21.757832        43.356639        2.182750       linear   \n",
       "1      29.973888      0.384091        14.112149        0.069193         poly   \n",
       "2     454.907223      6.513780        62.902244        0.306357          rbf   \n",
       "3     437.872215      2.860258        93.743195        2.242823      sigmoid   \n",
       "\n",
       "                  params  split0_test_score  split1_test_score  \\\n",
       "0   {'kernel': 'linear'}           0.664146           0.662834   \n",
       "1     {'kernel': 'poly'}           0.947785           0.948393   \n",
       "2      {'kernel': 'rbf'}           0.863143           0.866958   \n",
       "3  {'kernel': 'sigmoid'}           0.043294           0.044228   \n",
       "\n",
       "   split2_test_score  mean_test_score  std_test_score  rank_test_score  \n",
       "0           0.664686         0.663889        0.000778                3  \n",
       "1           0.947712         0.947963        0.000305                1  \n",
       "2           0.865564         0.865221        0.001576                2  \n",
       "3           0.041975         0.043166        0.000924                4  "
      ]
     },
     "execution_count": 52,
     "metadata": {},
     "output_type": "execute_result"
    }
   ],
   "source": [
    "pd.DataFrame(grid_search.cv_results_)"
   ]
  },
  {
   "cell_type": "code",
   "execution_count": 46,
   "metadata": {},
   "outputs": [
    {
     "data": {
      "text/plain": [
       "{'kernel': 'poly'}"
      ]
     },
     "execution_count": 46,
     "metadata": {},
     "output_type": "execute_result"
    }
   ],
   "source": [
    "grid_search.best_params_"
   ]
  },
  {
   "cell_type": "code",
   "execution_count": 47,
   "metadata": {},
   "outputs": [
    {
     "data": {
      "text/plain": [
       "0.9479634266670861"
      ]
     },
     "execution_count": 47,
     "metadata": {},
     "output_type": "execute_result"
    }
   ],
   "source": [
    "grid_search.best_score_"
   ]
  },
  {
   "cell_type": "markdown",
   "metadata": {},
   "source": [
    "ok, that is like, waaaaay better than softmax. Probably as the polynomial and rbf are dealing with a dataset that is not linearly seperable much better.\n",
    "\n",
    "Lets see about tweaking these with parameter tuning"
   ]
  },
  {
   "cell_type": "code",
   "execution_count": 57,
   "metadata": {},
   "outputs": [],
   "source": [
    "svc_poly_params = {\"C\": [0.001, 0.1, 1, 10],\n",
    "                   \"kernel\": [ \"poly\"],\n",
    "                   \"degree\": [2,3,5,7],\n",
    "                   \"gamma\": [\"auto\", \"scale\"]\n",
    "                   \n",
    "                  }"
   ]
  },
  {
   "cell_type": "code",
   "execution_count": 58,
   "metadata": {},
   "outputs": [],
   "source": [
    "grid_search_poly = sel.GridSearchCV(estimator=clf, \n",
    "                                 param_grid=svc_poly_params,\n",
    "                                 scoring = \"f1_macro\",\n",
    "                                 n_jobs = 2,\n",
    "                                 cv=3,\n",
    "                                 verbose = 10)"
   ]
  },
  {
   "cell_type": "code",
   "execution_count": 60,
   "metadata": {},
   "outputs": [
    {
     "ename": "SyntaxError",
     "evalue": "invalid syntax (<ipython-input-60-acdac09434b6>, line 56)",
     "output_type": "error",
     "traceback": [
      "\u001b[0;36m  File \u001b[0;32m\"<ipython-input-60-acdac09434b6>\"\u001b[0;36m, line \u001b[0;32m56\u001b[0m\n\u001b[0;31m    .fit(X_train_smol, y_train_smol)\u001b[0m\n\u001b[0m    ^\u001b[0m\n\u001b[0;31mSyntaxError\u001b[0m\u001b[0;31m:\u001b[0m invalid syntax\n"
     ]
    }
   ],
   "source": [
    "grid_search_poly.fit(X_train_smol, y_train_smol)"
   ]
  },
  {
   "cell_type": "code",
   "execution_count": 103,
   "metadata": {
    "scrolled": false
   },
   "outputs": [
    {
     "data": {
      "text/html": [
       "<div>\n",
       "<style scoped>\n",
       "    .dataframe tbody tr th:only-of-type {\n",
       "        vertical-align: middle;\n",
       "    }\n",
       "\n",
       "    .dataframe tbody tr th {\n",
       "        vertical-align: top;\n",
       "    }\n",
       "\n",
       "    .dataframe thead th {\n",
       "        text-align: right;\n",
       "    }\n",
       "</style>\n",
       "<table border=\"1\" class=\"dataframe\">\n",
       "  <thead>\n",
       "    <tr style=\"text-align: right;\">\n",
       "      <th></th>\n",
       "      <th>mean_fit_time</th>\n",
       "      <th>std_fit_time</th>\n",
       "      <th>mean_score_time</th>\n",
       "      <th>std_score_time</th>\n",
       "      <th>param_C</th>\n",
       "      <th>param_degree</th>\n",
       "      <th>param_gamma</th>\n",
       "      <th>param_kernel</th>\n",
       "      <th>params</th>\n",
       "      <th>split0_test_score</th>\n",
       "      <th>split1_test_score</th>\n",
       "      <th>split2_test_score</th>\n",
       "      <th>mean_test_score</th>\n",
       "      <th>std_test_score</th>\n",
       "      <th>rank_test_score</th>\n",
       "    </tr>\n",
       "  </thead>\n",
       "  <tbody>\n",
       "    <tr>\n",
       "      <td>27</td>\n",
       "      <td>47.845478</td>\n",
       "      <td>2.695971</td>\n",
       "      <td>16.869949</td>\n",
       "      <td>0.025520</td>\n",
       "      <td>10</td>\n",
       "      <td>3</td>\n",
       "      <td>scale</td>\n",
       "      <td>poly</td>\n",
       "      <td>{'C': 10, 'degree': 3, 'gamma': 'scale', 'kern...</td>\n",
       "      <td>0.953321</td>\n",
       "      <td>0.955662</td>\n",
       "      <td>0.953943</td>\n",
       "      <td>0.954309</td>\n",
       "      <td>0.000990</td>\n",
       "      <td>1</td>\n",
       "    </tr>\n",
       "    <tr>\n",
       "      <td>25</td>\n",
       "      <td>35.920633</td>\n",
       "      <td>0.419507</td>\n",
       "      <td>14.934289</td>\n",
       "      <td>0.249739</td>\n",
       "      <td>10</td>\n",
       "      <td>2</td>\n",
       "      <td>scale</td>\n",
       "      <td>poly</td>\n",
       "      <td>{'C': 10, 'degree': 2, 'gamma': 'scale', 'kern...</td>\n",
       "      <td>0.950615</td>\n",
       "      <td>0.951229</td>\n",
       "      <td>0.949359</td>\n",
       "      <td>0.950401</td>\n",
       "      <td>0.000778</td>\n",
       "      <td>2</td>\n",
       "    </tr>\n",
       "    <tr>\n",
       "      <td>8</td>\n",
       "      <td>34.807284</td>\n",
       "      <td>0.116297</td>\n",
       "      <td>14.015938</td>\n",
       "      <td>0.059963</td>\n",
       "      <td>0.1</td>\n",
       "      <td>2</td>\n",
       "      <td>auto</td>\n",
       "      <td>poly</td>\n",
       "      <td>{'C': 0.1, 'degree': 2, 'gamma': 'auto', 'kern...</td>\n",
       "      <td>0.949530</td>\n",
       "      <td>0.951160</td>\n",
       "      <td>0.950150</td>\n",
       "      <td>0.950280</td>\n",
       "      <td>0.000672</td>\n",
       "      <td>3</td>\n",
       "    </tr>\n",
       "    <tr>\n",
       "      <td>10</td>\n",
       "      <td>38.177306</td>\n",
       "      <td>0.845820</td>\n",
       "      <td>14.473679</td>\n",
       "      <td>0.075151</td>\n",
       "      <td>0.1</td>\n",
       "      <td>3</td>\n",
       "      <td>auto</td>\n",
       "      <td>poly</td>\n",
       "      <td>{'C': 0.1, 'degree': 3, 'gamma': 'auto', 'kern...</td>\n",
       "      <td>0.950131</td>\n",
       "      <td>0.949694</td>\n",
       "      <td>0.950318</td>\n",
       "      <td>0.950048</td>\n",
       "      <td>0.000261</td>\n",
       "      <td>4</td>\n",
       "    </tr>\n",
       "    <tr>\n",
       "      <td>18</td>\n",
       "      <td>36.811550</td>\n",
       "      <td>0.815769</td>\n",
       "      <td>14.367458</td>\n",
       "      <td>0.070897</td>\n",
       "      <td>1</td>\n",
       "      <td>3</td>\n",
       "      <td>auto</td>\n",
       "      <td>poly</td>\n",
       "      <td>{'C': 1, 'degree': 3, 'gamma': 'auto', 'kernel...</td>\n",
       "      <td>0.947785</td>\n",
       "      <td>0.948393</td>\n",
       "      <td>0.947712</td>\n",
       "      <td>0.947963</td>\n",
       "      <td>0.000305</td>\n",
       "      <td>5</td>\n",
       "    </tr>\n",
       "  </tbody>\n",
       "</table>\n",
       "</div>"
      ],
      "text/plain": [
       "    mean_fit_time  std_fit_time  mean_score_time  std_score_time param_C  \\\n",
       "27      47.845478      2.695971        16.869949        0.025520      10   \n",
       "25      35.920633      0.419507        14.934289        0.249739      10   \n",
       "8       34.807284      0.116297        14.015938        0.059963     0.1   \n",
       "10      38.177306      0.845820        14.473679        0.075151     0.1   \n",
       "18      36.811550      0.815769        14.367458        0.070897       1   \n",
       "\n",
       "   param_degree param_gamma param_kernel  \\\n",
       "27            3       scale         poly   \n",
       "25            2       scale         poly   \n",
       "8             2        auto         poly   \n",
       "10            3        auto         poly   \n",
       "18            3        auto         poly   \n",
       "\n",
       "                                               params  split0_test_score  \\\n",
       "27  {'C': 10, 'degree': 3, 'gamma': 'scale', 'kern...           0.953321   \n",
       "25  {'C': 10, 'degree': 2, 'gamma': 'scale', 'kern...           0.950615   \n",
       "8   {'C': 0.1, 'degree': 2, 'gamma': 'auto', 'kern...           0.949530   \n",
       "10  {'C': 0.1, 'degree': 3, 'gamma': 'auto', 'kern...           0.950131   \n",
       "18  {'C': 1, 'degree': 3, 'gamma': 'auto', 'kernel...           0.947785   \n",
       "\n",
       "    split1_test_score  split2_test_score  mean_test_score  std_test_score  \\\n",
       "27           0.955662           0.953943         0.954309        0.000990   \n",
       "25           0.951229           0.949359         0.950401        0.000778   \n",
       "8            0.951160           0.950150         0.950280        0.000672   \n",
       "10           0.949694           0.950318         0.950048        0.000261   \n",
       "18           0.948393           0.947712         0.947963        0.000305   \n",
       "\n",
       "    rank_test_score  \n",
       "27                1  \n",
       "25                2  \n",
       "8                 3  \n",
       "10                4  \n",
       "18                5  "
      ]
     },
     "execution_count": 103,
     "metadata": {},
     "output_type": "execute_result"
    }
   ],
   "source": [
    "pd.DataFrame(grid_search_poly.cv_results_).sort_values(\"mean_test_score\", ascending=False).head()"
   ]
  },
  {
   "cell_type": "code",
   "execution_count": 62,
   "metadata": {},
   "outputs": [
    {
     "data": {
      "text/plain": [
       "{'C': 10, 'degree': 3, 'gamma': 'scale', 'kernel': 'poly'}"
      ]
     },
     "execution_count": 62,
     "metadata": {},
     "output_type": "execute_result"
    }
   ],
   "source": [
    "grid_search_poly.best_params_\n"
   ]
  },
  {
   "cell_type": "code",
   "execution_count": 64,
   "metadata": {},
   "outputs": [
    {
     "data": {
      "text/plain": [
       "0.9543086293530183"
      ]
     },
     "execution_count": 64,
     "metadata": {},
     "output_type": "execute_result"
    }
   ],
   "source": [
    "grid_search_poly.best_score_"
   ]
  },
  {
   "cell_type": "code",
   "execution_count": 65,
   "metadata": {},
   "outputs": [],
   "source": [
    "svc_rbf_params = {\"C\": [0.001, 0.1, 1, 10],\n",
    "                   \"kernel\": [ \"rbf\"],\n",
    "                   \"degree\": [2,3,5,7],\n",
    "                   \"gamma\": [\"auto\", \"scale\"]\n",
    "                   \n",
    "                  }"
   ]
  },
  {
   "cell_type": "code",
   "execution_count": 72,
   "metadata": {},
   "outputs": [],
   "source": [
    "grid_search_rbf = sel.GridSearchCV(estimator=clf, \n",
    "                                 param_grid=svc_rbf_params,\n",
    "                                 scoring = \"f1_macro\",\n",
    "                                 n_jobs = 2,\n",
    "                                 cv=3,\n",
    "                                 verbose = 10)"
   ]
  },
  {
   "cell_type": "code",
   "execution_count": 73,
   "metadata": {},
   "outputs": [
    {
     "name": "stdout",
     "output_type": "stream",
     "text": [
      "Fitting 3 folds for each of 32 candidates, totalling 96 fits\n"
     ]
    },
    {
     "name": "stderr",
     "output_type": "stream",
     "text": [
      "[Parallel(n_jobs=2)]: Using backend LokyBackend with 2 concurrent workers.\n",
      "[Parallel(n_jobs=2)]: Done   1 tasks      | elapsed: 10.4min\n",
      "[Parallel(n_jobs=2)]: Done   4 tasks      | elapsed: 21.4min\n",
      "[Parallel(n_jobs=2)]: Done   9 tasks      | elapsed: 54.8min\n",
      "[Parallel(n_jobs=2)]: Done  14 tasks      | elapsed: 80.6min\n",
      "[Parallel(n_jobs=2)]: Done  21 tasks      | elapsed: 243.5min\n",
      "[Parallel(n_jobs=2)]: Done  28 tasks      | elapsed: 271.2min\n",
      "[Parallel(n_jobs=2)]: Done  37 tasks      | elapsed: 301.6min\n",
      "[Parallel(n_jobs=2)]: Done  46 tasks      | elapsed: 327.5min\n",
      "[Parallel(n_jobs=2)]: Done  57 tasks      | elapsed: 357.8min\n",
      "[Parallel(n_jobs=2)]: Done  68 tasks      | elapsed: 387.6min\n",
      "[Parallel(n_jobs=2)]: Done  81 tasks      | elapsed: 421.8min\n",
      "[Parallel(n_jobs=2)]: Done  96 out of  96 | elapsed: 457.6min finished\n"
     ]
    },
    {
     "name": "stdout",
     "output_type": "stream",
     "text": [
      "[LibSVM]"
     ]
    },
    {
     "data": {
      "text/plain": [
       "GridSearchCV(cv=3, error_score='raise-deprecating',\n",
       "             estimator=SVC(C=1.0, cache_size=200, class_weight=None, coef0=0.0,\n",
       "                           decision_function_shape='ovr', degree=3,\n",
       "                           gamma='auto_deprecated', kernel='rbf', max_iter=-1,\n",
       "                           probability=False, random_state=None, shrinking=True,\n",
       "                           tol=0.001, verbose=True),\n",
       "             iid='warn', n_jobs=2,\n",
       "             param_grid={'C': [0.001, 0.1, 1, 10], 'degree': [2, 3, 5, 7],\n",
       "                         'gamma': ['auto', 'scale'], 'kernel': ['rbf']},\n",
       "             pre_dispatch='2*n_jobs', refit=True, return_train_score=False,\n",
       "             scoring='f1_macro', verbose=10)"
      ]
     },
     "execution_count": 73,
     "metadata": {},
     "output_type": "execute_result"
    }
   ],
   "source": [
    "grid_search_rbf.fit(X_train_smol, y_train_smol)"
   ]
  },
  {
   "cell_type": "code",
   "execution_count": 74,
   "metadata": {},
   "outputs": [
    {
     "data": {
      "text/plain": [
       "{'C': 10, 'degree': 2, 'gamma': 'scale', 'kernel': 'rbf'}"
      ]
     },
     "execution_count": 74,
     "metadata": {},
     "output_type": "execute_result"
    }
   ],
   "source": [
    "grid_search_rbf.best_params_"
   ]
  },
  {
   "cell_type": "code",
   "execution_count": 75,
   "metadata": {},
   "outputs": [
    {
     "data": {
      "text/plain": [
       "0.9594975737493285"
      ]
     },
     "execution_count": 75,
     "metadata": {},
     "output_type": "execute_result"
    }
   ],
   "source": [
    "grid_search_rbf.best_score_\n"
   ]
  },
  {
   "cell_type": "markdown",
   "metadata": {},
   "source": [
    "marginally better than polynomial"
   ]
  },
  {
   "cell_type": "code",
   "execution_count": 76,
   "metadata": {},
   "outputs": [
    {
     "data": {
      "text/plain": [
       "SVC(C=10, cache_size=200, class_weight=None, coef0=0.0,\n",
       "    decision_function_shape='ovr', degree=2, gamma='scale', kernel='rbf',\n",
       "    max_iter=-1, probability=False, random_state=None, shrinking=True,\n",
       "    tol=0.001, verbose=True)"
      ]
     },
     "execution_count": 76,
     "metadata": {},
     "output_type": "execute_result"
    }
   ],
   "source": [
    "grid_search_rbf.best_estimator_"
   ]
  },
  {
   "cell_type": "markdown",
   "metadata": {},
   "source": [
    "we can asses if these models are complementry and therefore could be used in an ensemble by comparing if the results are different on the test data\n",
    "\n",
    "get test results"
   ]
  },
  {
   "cell_type": "code",
   "execution_count": 112,
   "metadata": {},
   "outputs": [],
   "source": [
    "Y_pred_rbf = grid_search_rbf.predict(X_test_smol)"
   ]
  },
  {
   "cell_type": "code",
   "execution_count": 113,
   "metadata": {},
   "outputs": [],
   "source": [
    "Y_pred_poly = grid_search_poly.predict(X_test_smol)"
   ]
  },
  {
   "cell_type": "markdown",
   "metadata": {},
   "source": [
    "we can look at f1 scores for both"
   ]
  },
  {
   "cell_type": "code",
   "execution_count": 114,
   "metadata": {},
   "outputs": [
    {
     "data": {
      "text/plain": [
       "0.9619535393525495"
      ]
     },
     "execution_count": 114,
     "metadata": {},
     "output_type": "execute_result"
    }
   ],
   "source": [
    "metrics.f1_score(y_test_smol, Y_pred_poly, average=\"weighted\")"
   ]
  },
  {
   "cell_type": "code",
   "execution_count": 115,
   "metadata": {},
   "outputs": [
    {
     "data": {
      "text/plain": [
       "0.9659419376594959"
      ]
     },
     "execution_count": 115,
     "metadata": {},
     "output_type": "execute_result"
    }
   ],
   "source": [
    "metrics.f1_score(y_test_smol, Y_pred_rbf, average=\"weighted\")"
   ]
  },
  {
   "cell_type": "markdown",
   "metadata": {},
   "source": [
    "somehow, both beat the train set...\n",
    "\n",
    "this smells a little funny. It is not impossible but implies there is more varience in the training cv splits that the test.\n",
    "\n"
   ]
  },
  {
   "cell_type": "code",
   "execution_count": 120,
   "metadata": {},
   "outputs": [],
   "source": [
    "rbf_correct = Y_pred_rbf == y_test_smol"
   ]
  },
  {
   "cell_type": "code",
   "execution_count": 121,
   "metadata": {},
   "outputs": [],
   "source": [
    "poly_correct = Y_pred_poly == y_test_smol"
   ]
  },
  {
   "cell_type": "markdown",
   "metadata": {},
   "source": [
    "where they differ"
   ]
  },
  {
   "cell_type": "code",
   "execution_count": 123,
   "metadata": {},
   "outputs": [],
   "source": [
    "differ = [rbf is not poly for rbf, poly in zip(rbf_correct, poly_correct)]"
   ]
  },
  {
   "cell_type": "code",
   "execution_count": 124,
   "metadata": {},
   "outputs": [
    {
     "data": {
      "text/plain": [
       "0.019555555555555555"
      ]
     },
     "execution_count": 124,
     "metadata": {},
     "output_type": "execute_result"
    }
   ],
   "source": [
    "sum(differ)/len(differ)"
   ]
  },
  {
   "cell_type": "markdown",
   "metadata": {},
   "source": [
    "so they differ (meaning one is correct and the other is not) on approx %2 of the test set, this should mean we get some improvement by combining these into a ensemble"
   ]
  },
  {
   "cell_type": "code",
   "execution_count": 127,
   "metadata": {},
   "outputs": [
    {
     "data": {
      "text/plain": [
       "{'C': 10, 'degree': 3, 'gamma': 'scale', 'kernel': 'poly'}"
      ]
     },
     "execution_count": 127,
     "metadata": {},
     "output_type": "execute_result"
    }
   ],
   "source": [
    "grid_search_poly.best_params_"
   ]
  },
  {
   "cell_type": "code",
   "execution_count": 130,
   "metadata": {},
   "outputs": [
    {
     "data": {
      "text/plain": [
       "{'C': 10, 'degree': 2, 'gamma': 'scale', 'kernel': 'rbf'}"
      ]
     },
     "execution_count": 130,
     "metadata": {},
     "output_type": "execute_result"
    }
   ],
   "source": [
    "grid_search_rbf.best_params_"
   ]
  },
  {
   "cell_type": "code",
   "execution_count": 138,
   "metadata": {},
   "outputs": [],
   "source": [
    "clf_svc_poly = svm.SVC(C=10,\n",
    "                       degree=3,\n",
    "                       gamma=\"scale\",\n",
    "                       kernel=\"poly\",\n",
    "                       probability=True,\n",
    "                       verbose=True\n",
    "                      )\n",
    "\n",
    "clf_svc_rbf = svm.SVC(C=10,\n",
    "                       degree=2,\n",
    "                       gamma=\"scale\",\n",
    "                       kernel=\"rbf\",\n",
    "                       probability=True,\n",
    "                       verbose=True\n",
    "                      )"
   ]
  },
  {
   "cell_type": "code",
   "execution_count": 139,
   "metadata": {},
   "outputs": [],
   "source": [
    "svc_ensemble = [(\"poly_svc\", clf_svc_poly),\n",
    "                 (\"rbf_svc\", clf_svc_rbf)]"
   ]
  },
  {
   "cell_type": "code",
   "execution_count": 144,
   "metadata": {},
   "outputs": [],
   "source": [
    "svc_hard_ensemble = ensemble.VotingClassifier(estimators=svc_ensemble,\n",
    "                                              voting=\"hard\",\n",
    "                                              n_jobs=2\n",
    "                                              )\n"
   ]
  },
  {
   "cell_type": "code",
   "execution_count": 145,
   "metadata": {},
   "outputs": [
    {
     "data": {
      "text/plain": [
       "VotingClassifier(estimators=[('poly_svc',\n",
       "                              SVC(C=10, cache_size=200, class_weight=None,\n",
       "                                  coef0=0.0, decision_function_shape='ovr',\n",
       "                                  degree=3, gamma='scale', kernel='poly',\n",
       "                                  max_iter=-1, probability=True,\n",
       "                                  random_state=None, shrinking=True, tol=0.001,\n",
       "                                  verbose=True)),\n",
       "                             ('rbf_svc',\n",
       "                              SVC(C=10, cache_size=200, class_weight=None,\n",
       "                                  coef0=0.0, decision_function_shape='ovr',\n",
       "                                  degree=2, gamma='scale', kernel='rbf',\n",
       "                                  max_iter=-1, probability=True,\n",
       "                                  random_state=None, shrinking=True, tol=0.001,\n",
       "                                  verbose=True))],\n",
       "                 flatten_transform=True, n_jobs=2, voting='hard', weights=None)"
      ]
     },
     "execution_count": 145,
     "metadata": {},
     "output_type": "execute_result"
    }
   ],
   "source": [
    "svc_hard_ensemble.fit(X_train_smol, y_train_smol)"
   ]
  },
  {
   "cell_type": "code",
   "execution_count": 146,
   "metadata": {},
   "outputs": [],
   "source": [
    "Y_pred_hard= svc_hard_ensemble.predict(X_test_smol)"
   ]
  },
  {
   "cell_type": "code",
   "execution_count": 149,
   "metadata": {},
   "outputs": [
    {
     "data": {
      "text/plain": [
       "0.9637359456256835"
      ]
     },
     "execution_count": 149,
     "metadata": {},
     "output_type": "execute_result"
    }
   ],
   "source": [
    "metrics.f1_score(y_test_smol, Y_pred_hard, average=\"weighted\")"
   ]
  },
  {
   "cell_type": "markdown",
   "metadata": {},
   "source": [
    "not quite as good as rbf, probably because of tie break rules between them, try changing the order of classifiers will change the priority"
   ]
  },
  {
   "cell_type": "code",
   "execution_count": 155,
   "metadata": {},
   "outputs": [],
   "source": [
    "svc_ensemble_reversed = [(\"rbf_svc\", clf_svc_rbf),\n",
    "                         (\"poly_svc\", clf_svc_poly),\n",
    "                         ]"
   ]
  },
  {
   "cell_type": "code",
   "execution_count": 156,
   "metadata": {},
   "outputs": [],
   "source": [
    "svc_hard_ensemble_rev = ensemble.VotingClassifier(estimators=svc_ensemble_reversed,\n",
    "                                              voting=\"hard\",\n",
    "                                              n_jobs=2\n",
    "                                              )\n"
   ]
  },
  {
   "cell_type": "code",
   "execution_count": 157,
   "metadata": {},
   "outputs": [
    {
     "data": {
      "text/plain": [
       "VotingClassifier(estimators=[('rbf_svc',\n",
       "                              SVC(C=10, cache_size=200, class_weight=None,\n",
       "                                  coef0=0.0, decision_function_shape='ovr',\n",
       "                                  degree=2, gamma='scale', kernel='rbf',\n",
       "                                  max_iter=-1, probability=True,\n",
       "                                  random_state=None, shrinking=True, tol=0.001,\n",
       "                                  verbose=True)),\n",
       "                             ('poly_svc',\n",
       "                              SVC(C=10, cache_size=200, class_weight=None,\n",
       "                                  coef0=0.0, decision_function_shape='ovr',\n",
       "                                  degree=3, gamma='scale', kernel='poly',\n",
       "                                  max_iter=-1, probability=True,\n",
       "                                  random_state=None, shrinking=True, tol=0.001,\n",
       "                                  verbose=True))],\n",
       "                 flatten_transform=True, n_jobs=2, voting='hard', weights=None)"
      ]
     },
     "execution_count": 157,
     "metadata": {},
     "output_type": "execute_result"
    }
   ],
   "source": [
    "svc_hard_ensemble_rev.fit(X_train_smol, y_train_smol)"
   ]
  },
  {
   "cell_type": "code",
   "execution_count": 158,
   "metadata": {},
   "outputs": [],
   "source": [
    "Y_pred_hard_rev= svc_hard_ensemble_rev.predict(X_test_smol)"
   ]
  },
  {
   "cell_type": "code",
   "execution_count": 159,
   "metadata": {},
   "outputs": [
    {
     "data": {
      "text/plain": [
       "0.9637359456256835"
      ]
     },
     "execution_count": 159,
     "metadata": {},
     "output_type": "execute_result"
    }
   ],
   "source": [
    "metrics.f1_score(y_test_smol, Y_pred_hard_rev, average=\"weighted\")"
   ]
  },
  {
   "cell_type": "code",
   "execution_count": 150,
   "metadata": {},
   "outputs": [],
   "source": [
    "svc_soft_ensemble = ensemble.VotingClassifier(estimators=svc_ensemble,\n",
    "                                              voting=\"soft\",\n",
    "                                              n_jobs=2\n",
    "                                              )\n"
   ]
  },
  {
   "cell_type": "code",
   "execution_count": 151,
   "metadata": {},
   "outputs": [
    {
     "data": {
      "text/plain": [
       "VotingClassifier(estimators=[('poly_svc',\n",
       "                              SVC(C=10, cache_size=200, class_weight=None,\n",
       "                                  coef0=0.0, decision_function_shape='ovr',\n",
       "                                  degree=3, gamma='scale', kernel='poly',\n",
       "                                  max_iter=-1, probability=True,\n",
       "                                  random_state=None, shrinking=True, tol=0.001,\n",
       "                                  verbose=True)),\n",
       "                             ('rbf_svc',\n",
       "                              SVC(C=10, cache_size=200, class_weight=None,\n",
       "                                  coef0=0.0, decision_function_shape='ovr',\n",
       "                                  degree=2, gamma='scale', kernel='rbf',\n",
       "                                  max_iter=-1, probability=True,\n",
       "                                  random_state=None, shrinking=True, tol=0.001,\n",
       "                                  verbose=True))],\n",
       "                 flatten_transform=True, n_jobs=2, voting='soft', weights=None)"
      ]
     },
     "execution_count": 151,
     "metadata": {},
     "output_type": "execute_result"
    }
   ],
   "source": [
    "svc_soft_ensemble.fit(X_train_smol, y_train_smol)"
   ]
  },
  {
   "cell_type": "code",
   "execution_count": 152,
   "metadata": {},
   "outputs": [],
   "source": [
    "Y_pred_soft = svc_soft_ensemble.predict(X_test_smol)"
   ]
  },
  {
   "cell_type": "code",
   "execution_count": 153,
   "metadata": {},
   "outputs": [
    {
     "data": {
      "text/plain": [
       "0.967181891448374"
      ]
     },
     "execution_count": 153,
     "metadata": {},
     "output_type": "execute_result"
    }
   ],
   "source": [
    "metrics.f1_score(y_test_smol, Y_pred_soft, average=\"weighted\")"
   ]
  },
  {
   "cell_type": "markdown",
   "metadata": {},
   "source": [
    "soft voting gives some improvement, only 0.02 though. Likely reason better than hard as this combines the two rather than have to tie-break between them"
   ]
  }
 ],
 "metadata": {
  "kernelspec": {
   "display_name": "minst-ensemble",
   "language": "python",
   "name": "minst-ensemble"
  },
  "language_info": {
   "codemirror_mode": {
    "name": "ipython",
    "version": 3
   },
   "file_extension": ".py",
   "mimetype": "text/x-python",
   "name": "python",
   "nbconvert_exporter": "python",
   "pygments_lexer": "ipython3",
   "version": "3.6.8"
  },
  "toc": {
   "base_numbering": 1,
   "nav_menu": {},
   "number_sections": true,
   "sideBar": true,
   "skip_h1_title": false,
   "title_cell": "Table of Contents",
   "title_sidebar": "Contents",
   "toc_cell": false,
   "toc_position": {},
   "toc_section_display": true,
   "toc_window_display": false
  },
  "varInspector": {
   "cols": {
    "lenName": 16,
    "lenType": 16,
    "lenVar": 40
   },
   "kernels_config": {
    "python": {
     "delete_cmd_postfix": "",
     "delete_cmd_prefix": "del ",
     "library": "var_list.py",
     "varRefreshCmd": "print(var_dic_list())"
    },
    "r": {
     "delete_cmd_postfix": ") ",
     "delete_cmd_prefix": "rm(",
     "library": "var_list.r",
     "varRefreshCmd": "cat(var_dic_list()) "
    }
   },
   "types_to_exclude": [
    "module",
    "function",
    "builtin_function_or_method",
    "instance",
    "_Feature"
   ],
   "window_display": false
  }
 },
 "nbformat": 4,
 "nbformat_minor": 2
}
