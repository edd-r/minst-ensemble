{
 "cells": [
  {
   "cell_type": "code",
   "execution_count": 2,
   "metadata": {},
   "outputs": [],
   "source": [
    "import os\n",
    "import sys\n",
    "import importlib\n",
    "\n",
    "import pandas as pd\n",
    "import numpy as np\n",
    "import sklearn.model_selection as sel\n",
    "import sklearn.metrics as metrics\n",
    "import sklearn.ensemble as ensemble\n",
    "import seaborn as sb\n",
    "\n",
    "from sklearn import svm\n",
    "\n",
    "\n",
    "# add project modules to the path\n",
    "path_to_module = os.path.abspath(os.path.join(os.getcwd(),\"..\",\"src/\"))\n",
    "sys.path.append(path_to_module)\n",
    "\n",
    "import src.models.train_model as train"
   ]
  },
  {
   "cell_type": "markdown",
   "metadata": {},
   "source": [
    "I'm now repeating code a lot here, bad! Will need to write bits of this"
   ]
  },
  {
   "cell_type": "code",
   "execution_count": 3,
   "metadata": {},
   "outputs": [
    {
     "name": "stderr",
     "output_type": "stream",
     "text": [
      "loading files from /home/edd/Documents/Projects/minst-ensemble/data/processed: 100%|██████████| 4/4 [00:01<00:00,  2.08it/s]\n"
     ]
    }
   ],
   "source": [
    "path_to_data = os.path.abspath(os.path.join(os.getcwd(),\n",
    "                                            \"..\",\n",
    "                                            \"data/processed/\"\n",
    "                                           ))\n",
    "\n",
    "data_dict = train.load_processed_data(file_path=path_to_data)"
   ]
  },
  {
   "cell_type": "code",
   "execution_count": 4,
   "metadata": {},
   "outputs": [],
   "source": [
    "X = data_dict[\"X_train\"]\n",
    "y = data_dict[\"y_train\"]"
   ]
  },
  {
   "cell_type": "code",
   "execution_count": 5,
   "metadata": {},
   "outputs": [],
   "source": [
    "X_train, X_test, y_train, y_test = sel.train_test_split(X,\n",
    "                                                    y,\n",
    "                                                    test_size=0.3,\n",
    "                                                    random_state=42,\n",
    "                                                    shuffle=True,\n",
    "                                                    stratify=y)"
   ]
  },
  {
   "cell_type": "code",
   "execution_count": 6,
   "metadata": {},
   "outputs": [],
   "source": [
    "X_train_smol, X_test_smol, y_train_smol, y_test_smol = sel.train_test_split(X,\n",
    "                                                    y,\n",
    "                                                    test_size=0.09,\n",
    "                                                    train_size=0.21,\n",
    "                                                    random_state=42,\n",
    "                                                    shuffle=True,\n",
    "                                                    stratify=y)"
   ]
  },
  {
   "cell_type": "code",
   "execution_count": 9,
   "metadata": {},
   "outputs": [],
   "source": [
    "et_clf = ensemble.ExtraTreesClassifier(  random_state=42,\n",
    "                                         verbose=True)"
   ]
  },
  {
   "cell_type": "code",
   "execution_count": 10,
   "metadata": {},
   "outputs": [],
   "source": [
    "et_params = {\"n_estimators\": [100,200,500,1000,1500],\n",
    "            }"
   ]
  },
  {
   "cell_type": "code",
   "execution_count": 11,
   "metadata": {},
   "outputs": [],
   "source": [
    "grid_search = sel.GridSearchCV(estimator=et_clf, \n",
    "                               param_grid=et_params,\n",
    "                               scoring = \"f1_macro\",\n",
    "                               n_jobs = 2,\n",
    "                               cv=3,\n",
    "                               verbose = 10\n",
    "                              )"
   ]
  },
  {
   "cell_type": "code",
   "execution_count": 12,
   "metadata": {},
   "outputs": [
    {
     "name": "stdout",
     "output_type": "stream",
     "text": [
      "Fitting 3 folds for each of 5 candidates, totalling 15 fits\n"
     ]
    },
    {
     "name": "stderr",
     "output_type": "stream",
     "text": [
      "[Parallel(n_jobs=2)]: Using backend LokyBackend with 2 concurrent workers.\n",
      "[Parallel(n_jobs=2)]: Done   1 tasks      | elapsed:    9.5s\n",
      "[Parallel(n_jobs=2)]: Done   4 tasks      | elapsed:   27.9s\n",
      "[Parallel(n_jobs=2)]: Done   9 tasks      | elapsed:  2.1min\n",
      "[Parallel(n_jobs=2)]: Done  15 out of  15 | elapsed:  7.6min finished\n",
      "[Parallel(n_jobs=1)]: Using backend SequentialBackend with 1 concurrent workers.\n",
      "[Parallel(n_jobs=1)]: Done 1500 out of 1500 | elapsed:  5.1min finished\n"
     ]
    },
    {
     "data": {
      "text/plain": [
       "GridSearchCV(cv=3, error_score='raise-deprecating',\n",
       "             estimator=ExtraTreesClassifier(bootstrap=False, class_weight=None,\n",
       "                                            criterion='gini', max_depth=None,\n",
       "                                            max_features='auto',\n",
       "                                            max_leaf_nodes=None,\n",
       "                                            min_impurity_decrease=0.0,\n",
       "                                            min_impurity_split=None,\n",
       "                                            min_samples_leaf=1,\n",
       "                                            min_samples_split=2,\n",
       "                                            min_weight_fraction_leaf=0.0,\n",
       "                                            n_estimators='warn', n_jobs=None,\n",
       "                                            oob_score=False, random_state=42,\n",
       "                                            verbose=True, warm_start=False),\n",
       "             iid='warn', n_jobs=2,\n",
       "             param_grid={'n_estimators': [100, 200, 500, 1000, 1500]},\n",
       "             pre_dispatch='2*n_jobs', refit=True, return_train_score=False,\n",
       "             scoring='f1_macro', verbose=10)"
      ]
     },
     "execution_count": 12,
     "metadata": {},
     "output_type": "execute_result"
    }
   ],
   "source": [
    "grid_search.fit(X_train_smol, y_train_smol)"
   ]
  },
  {
   "cell_type": "code",
   "execution_count": 13,
   "metadata": {},
   "outputs": [
    {
     "data": {
      "text/plain": [
       "{'n_estimators': 1500}"
      ]
     },
     "execution_count": 13,
     "metadata": {},
     "output_type": "execute_result"
    }
   ],
   "source": [
    "grid_search.best_params_"
   ]
  },
  {
   "cell_type": "code",
   "execution_count": 14,
   "metadata": {},
   "outputs": [
    {
     "data": {
      "text/plain": [
       "0.9360979007484489"
      ]
     },
     "execution_count": 14,
     "metadata": {},
     "output_type": "execute_result"
    }
   ],
   "source": [
    "grid_search.best_score_"
   ]
  },
  {
   "cell_type": "markdown",
   "metadata": {},
   "source": [
    "the biggest model is bestest."
   ]
  },
  {
   "cell_type": "code",
   "execution_count": 16,
   "metadata": {},
   "outputs": [],
   "source": [
    "et_results_df = pd.DataFrame(grid_search.cv_results_)"
   ]
  },
  {
   "cell_type": "code",
   "execution_count": 17,
   "metadata": {},
   "outputs": [
    {
     "data": {
      "text/plain": [
       "<matplotlib.axes._subplots.AxesSubplot at 0x7fbcf4c2cac8>"
      ]
     },
     "execution_count": 17,
     "metadata": {},
     "output_type": "execute_result"
    },
    {
     "data": {
      "image/png": "[encoded data removed]",
      "text/plain": [
       "<Figure size 432x288 with 1 Axes>"
      ]
     },
     "metadata": {
      "needs_background": "light"
     },
     "output_type": "display_data"
    }
   ],
   "source": [
    "sb.lineplot(x=\"param_n_estimators\", y=\"mean_test_score\",data=et_results_df)"
   ]
  },
  {
   "cell_type": "markdown",
   "metadata": {},
   "source": [
    "Extra trees appear to outperform random forest, so this means our data is noisey and the greedy approach that random forests take to feature selection for fitting the trees is not working as well as a random search.\n",
    "\n",
    "We also get relatively more improvement as we increase size than random forest models.\n",
    "\n",
    "lets try looking at these around 1000\n"
   ]
  },
  {
   "cell_type": "code",
   "execution_count": 18,
   "metadata": {},
   "outputs": [],
   "source": [
    "et_params = {\"n_estimators\": [x for x in range(800,1250,50)],\n",
    "            }"
   ]
  },
  {
   "cell_type": "code",
   "execution_count": 19,
   "metadata": {},
   "outputs": [],
   "source": [
    "grid_search = sel.GridSearchCV(estimator=et_clf, \n",
    "                               param_grid=et_params,\n",
    "                               scoring = \"f1_macro\",\n",
    "                               n_jobs = 2,\n",
    "                               cv=3,\n",
    "                               verbose = 10\n",
    "                              )"
   ]
  },
  {
   "cell_type": "code",
   "execution_count": 20,
   "metadata": {},
   "outputs": [
    {
     "name": "stdout",
     "output_type": "stream",
     "text": [
      "Fitting 3 folds for each of 9 candidates, totalling 27 fits\n"
     ]
    },
    {
     "name": "stderr",
     "output_type": "stream",
     "text": [
      "[Parallel(n_jobs=2)]: Using backend LokyBackend with 2 concurrent workers.\n",
      "[Parallel(n_jobs=2)]: Done   1 tasks      | elapsed:  1.5min\n",
      "[Parallel(n_jobs=2)]: Done   4 tasks      | elapsed:  2.8min\n",
      "[Parallel(n_jobs=2)]: Done   9 tasks      | elapsed:  7.0min\n",
      "[Parallel(n_jobs=2)]: Done  14 tasks      | elapsed: 10.0min\n",
      "[Parallel(n_jobs=2)]: Done  21 tasks      | elapsed: 16.1min\n",
      "[Parallel(n_jobs=2)]: Done  27 out of  27 | elapsed: 21.1min remaining:    0.0s\n",
      "[Parallel(n_jobs=2)]: Done  27 out of  27 | elapsed: 21.1min finished\n",
      "[Parallel(n_jobs=1)]: Using backend SequentialBackend with 1 concurrent workers.\n",
      "[Parallel(n_jobs=1)]: Done 1000 out of 1000 | elapsed:  2.6min finished\n"
     ]
    },
    {
     "data": {
      "text/plain": [
       "GridSearchCV(cv=3, error_score='raise-deprecating',\n",
       "             estimator=ExtraTreesClassifier(bootstrap=False, class_weight=None,\n",
       "                                            criterion='gini', max_depth=None,\n",
       "                                            max_features='auto',\n",
       "                                            max_leaf_nodes=None,\n",
       "                                            min_impurity_decrease=0.0,\n",
       "                                            min_impurity_split=None,\n",
       "                                            min_samples_leaf=1,\n",
       "                                            min_samples_split=2,\n",
       "                                            min_weight_fraction_leaf=0.0,\n",
       "                                            n_estimators='warn', n_jobs=None,\n",
       "                                            oob_score=False, random_state=42,\n",
       "                                            verbose=True, warm_start=False),\n",
       "             iid='warn', n_jobs=2,\n",
       "             param_grid={'n_estimators': [800, 850, 900, 950, 1000, 1050, 1100,\n",
       "                                          1150, 1200]},\n",
       "             pre_dispatch='2*n_jobs', refit=True, return_train_score=False,\n",
       "             scoring='f1_macro', verbose=10)"
      ]
     },
     "execution_count": 20,
     "metadata": {},
     "output_type": "execute_result"
    }
   ],
   "source": [
    "grid_search.fit(X_train_smol, y_train_smol)"
   ]
  },
  {
   "cell_type": "code",
   "execution_count": 23,
   "metadata": {},
   "outputs": [],
   "source": [
    "et_results_df = pd.DataFrame(grid_search.cv_results_)"
   ]
  },
  {
   "cell_type": "code",
   "execution_count": 25,
   "metadata": {},
   "outputs": [
    {
     "data": {
      "text/plain": [
       "<matplotlib.axes._subplots.AxesSubplot at 0x7fbcf4a6e6d8>"
      ]
     },
     "execution_count": 25,
     "metadata": {},
     "output_type": "execute_result"
    },
    {
     "data": {
      "image/png": "[encoded data removed]",
      "text/plain": [
       "<Figure size 432x288 with 1 Axes>"
      ]
     },
     "metadata": {
      "needs_background": "light"
     },
     "output_type": "display_data"
    }
   ],
   "source": [
    "sb.lineplot(x=\"param_n_estimators\", y=\"mean_test_score\",data=et_results_df)"
   ]
  },
  {
   "cell_type": "markdown",
   "metadata": {},
   "source": [
    "looks like noise mostly. Will stick with around 800"
   ]
  },
  {
   "cell_type": "code",
   "execution_count": 34,
   "metadata": {},
   "outputs": [],
   "source": [
    "et_params = {\"n_estimators\": [600,700,800,900,1000],\n",
    "             \"criterion\": [\"gini\", \"entropy\"]\n",
    "            }"
   ]
  },
  {
   "cell_type": "code",
   "execution_count": 35,
   "metadata": {},
   "outputs": [],
   "source": [
    "grid_search = sel.GridSearchCV(estimator=et_clf, \n",
    "                               param_grid=et_params,\n",
    "                               scoring = \"f1_macro\",\n",
    "                               n_jobs = 2,\n",
    "                               cv=3,\n",
    "                               verbose = 10\n",
    "                              )"
   ]
  },
  {
   "cell_type": "code",
   "execution_count": 37,
   "metadata": {},
   "outputs": [
    {
     "name": "stdout",
     "output_type": "stream",
     "text": [
      "Fitting 3 folds for each of 10 candidates, totalling 30 fits\n"
     ]
    },
    {
     "name": "stderr",
     "output_type": "stream",
     "text": [
      "[Parallel(n_jobs=2)]: Using backend LokyBackend with 2 concurrent workers.\n",
      "[Parallel(n_jobs=2)]: Done   1 tasks      | elapsed:  1.2min\n",
      "[Parallel(n_jobs=2)]: Done   4 tasks      | elapsed:  2.2min\n",
      "[Parallel(n_jobs=2)]: Done   9 tasks      | elapsed:  5.4min\n",
      "[Parallel(n_jobs=2)]: Done  14 tasks      | elapsed:  8.7min\n",
      "[Parallel(n_jobs=2)]: Done  21 tasks      | elapsed: 13.2min\n",
      "[Parallel(n_jobs=2)]: Done  30 out of  30 | elapsed: 20.1min finished\n",
      "[Parallel(n_jobs=1)]: Using backend SequentialBackend with 1 concurrent workers.\n",
      "[Parallel(n_jobs=1)]: Done 1000 out of 1000 | elapsed:  3.2min finished\n"
     ]
    },
    {
     "data": {
      "text/plain": [
       "GridSearchCV(cv=3, error_score='raise-deprecating',\n",
       "             estimator=ExtraTreesClassifier(bootstrap=False, class_weight=None,\n",
       "                                            criterion='gini', max_depth=None,\n",
       "                                            max_features='auto',\n",
       "                                            max_leaf_nodes=None,\n",
       "                                            min_impurity_decrease=0.0,\n",
       "                                            min_impurity_split=None,\n",
       "                                            min_samples_leaf=1,\n",
       "                                            min_samples_split=2,\n",
       "                                            min_weight_fraction_leaf=0.0,\n",
       "                                            n_estimators='warn', n_jobs=None,\n",
       "                                            oob_score=False, random_state=42,\n",
       "                                            verbose=True, warm_start=False),\n",
       "             iid='warn', n_jobs=2,\n",
       "             param_grid={'criterion': ['gini', 'entropy'],\n",
       "                         'n_estimators': [600, 700, 800, 900, 1000]},\n",
       "             pre_dispatch='2*n_jobs', refit=True, return_train_score=False,\n",
       "             scoring='f1_macro', verbose=10)"
      ]
     },
     "execution_count": 37,
     "metadata": {},
     "output_type": "execute_result"
    }
   ],
   "source": [
    "grid_search.fit(X_train_smol, y_train_smol)"
   ]
  },
  {
   "cell_type": "code",
   "execution_count": 39,
   "metadata": {},
   "outputs": [
    {
     "data": {
      "text/plain": [
       "{'criterion': 'gini', 'n_estimators': 1000}"
      ]
     },
     "execution_count": 39,
     "metadata": {},
     "output_type": "execute_result"
    }
   ],
   "source": [
    "grid_search.best_params_"
   ]
  },
  {
   "cell_type": "code",
   "execution_count": 40,
   "metadata": {},
   "outputs": [
    {
     "data": {
      "text/plain": [
       "0.935868594993987"
      ]
     },
     "execution_count": 40,
     "metadata": {},
     "output_type": "execute_result"
    }
   ],
   "source": [
    "grid_search.best_score_"
   ]
  },
  {
   "cell_type": "code",
   "execution_count": 41,
   "metadata": {},
   "outputs": [],
   "source": [
    "et_results_df = pd.DataFrame(grid_search.cv_results_)"
   ]
  },
  {
   "cell_type": "code",
   "execution_count": 42,
   "metadata": {},
   "outputs": [
    {
     "data": {
      "text/html": [
       "<div>\n",
       "<style scoped>\n",
       "    .dataframe tbody tr th:only-of-type {\n",
       "        vertical-align: middle;\n",
       "    }\n",
       "\n",
       "    .dataframe tbody tr th {\n",
       "        vertical-align: top;\n",
       "    }\n",
       "\n",
       "    .dataframe thead th {\n",
       "        text-align: right;\n",
       "    }\n",
       "</style>\n",
       "<table border=\"1\" class=\"dataframe\">\n",
       "  <thead>\n",
       "    <tr style=\"text-align: right;\">\n",
       "      <th></th>\n",
       "      <th>mean_fit_time</th>\n",
       "      <th>std_fit_time</th>\n",
       "      <th>mean_score_time</th>\n",
       "      <th>std_score_time</th>\n",
       "      <th>param_criterion</th>\n",
       "      <th>param_n_estimators</th>\n",
       "      <th>params</th>\n",
       "      <th>split0_test_score</th>\n",
       "      <th>split1_test_score</th>\n",
       "      <th>split2_test_score</th>\n",
       "      <th>mean_test_score</th>\n",
       "      <th>std_test_score</th>\n",
       "      <th>rank_test_score</th>\n",
       "    </tr>\n",
       "  </thead>\n",
       "  <tbody>\n",
       "    <tr>\n",
       "      <td>0</td>\n",
       "      <td>48.600141</td>\n",
       "      <td>0.629846</td>\n",
       "      <td>3.948871</td>\n",
       "      <td>0.025436</td>\n",
       "      <td>gini</td>\n",
       "      <td>600</td>\n",
       "      <td>{'criterion': 'gini', 'n_estimators': 600}</td>\n",
       "      <td>0.934426</td>\n",
       "      <td>0.936967</td>\n",
       "      <td>0.933631</td>\n",
       "      <td>0.935008</td>\n",
       "      <td>0.001422</td>\n",
       "      <td>10</td>\n",
       "    </tr>\n",
       "    <tr>\n",
       "      <td>1</td>\n",
       "      <td>56.752305</td>\n",
       "      <td>0.696792</td>\n",
       "      <td>4.694367</td>\n",
       "      <td>0.032092</td>\n",
       "      <td>gini</td>\n",
       "      <td>700</td>\n",
       "      <td>{'criterion': 'gini', 'n_estimators': 700}</td>\n",
       "      <td>0.935549</td>\n",
       "      <td>0.937131</td>\n",
       "      <td>0.934075</td>\n",
       "      <td>0.935585</td>\n",
       "      <td>0.001248</td>\n",
       "      <td>4</td>\n",
       "    </tr>\n",
       "    <tr>\n",
       "      <td>2</td>\n",
       "      <td>64.791797</td>\n",
       "      <td>1.168119</td>\n",
       "      <td>5.361460</td>\n",
       "      <td>0.020246</td>\n",
       "      <td>gini</td>\n",
       "      <td>800</td>\n",
       "      <td>{'criterion': 'gini', 'n_estimators': 800}</td>\n",
       "      <td>0.935327</td>\n",
       "      <td>0.937010</td>\n",
       "      <td>0.933870</td>\n",
       "      <td>0.935402</td>\n",
       "      <td>0.001283</td>\n",
       "      <td>7</td>\n",
       "    </tr>\n",
       "    <tr>\n",
       "      <td>3</td>\n",
       "      <td>74.418961</td>\n",
       "      <td>0.654995</td>\n",
       "      <td>6.030512</td>\n",
       "      <td>0.028293</td>\n",
       "      <td>gini</td>\n",
       "      <td>900</td>\n",
       "      <td>{'criterion': 'gini', 'n_estimators': 900}</td>\n",
       "      <td>0.935521</td>\n",
       "      <td>0.937400</td>\n",
       "      <td>0.933840</td>\n",
       "      <td>0.935587</td>\n",
       "      <td>0.001454</td>\n",
       "      <td>3</td>\n",
       "    </tr>\n",
       "    <tr>\n",
       "      <td>4</td>\n",
       "      <td>81.520224</td>\n",
       "      <td>2.657915</td>\n",
       "      <td>6.661952</td>\n",
       "      <td>0.062958</td>\n",
       "      <td>gini</td>\n",
       "      <td>1000</td>\n",
       "      <td>{'criterion': 'gini', 'n_estimators': 1000}</td>\n",
       "      <td>0.935994</td>\n",
       "      <td>0.937792</td>\n",
       "      <td>0.933819</td>\n",
       "      <td>0.935869</td>\n",
       "      <td>0.001624</td>\n",
       "      <td>1</td>\n",
       "    </tr>\n",
       "    <tr>\n",
       "      <td>5</td>\n",
       "      <td>60.982500</td>\n",
       "      <td>0.672891</td>\n",
       "      <td>3.836027</td>\n",
       "      <td>0.013571</td>\n",
       "      <td>entropy</td>\n",
       "      <td>600</td>\n",
       "      <td>{'criterion': 'entropy', 'n_estimators': 600}</td>\n",
       "      <td>0.935396</td>\n",
       "      <td>0.937201</td>\n",
       "      <td>0.933083</td>\n",
       "      <td>0.935227</td>\n",
       "      <td>0.001685</td>\n",
       "      <td>9</td>\n",
       "    </tr>\n",
       "    <tr>\n",
       "      <td>6</td>\n",
       "      <td>69.243536</td>\n",
       "      <td>0.376446</td>\n",
       "      <td>4.458302</td>\n",
       "      <td>0.009407</td>\n",
       "      <td>entropy</td>\n",
       "      <td>700</td>\n",
       "      <td>{'criterion': 'entropy', 'n_estimators': 700}</td>\n",
       "      <td>0.935862</td>\n",
       "      <td>0.937221</td>\n",
       "      <td>0.932749</td>\n",
       "      <td>0.935278</td>\n",
       "      <td>0.001872</td>\n",
       "      <td>8</td>\n",
       "    </tr>\n",
       "    <tr>\n",
       "      <td>7</td>\n",
       "      <td>78.966424</td>\n",
       "      <td>0.213082</td>\n",
       "      <td>5.087245</td>\n",
       "      <td>0.024794</td>\n",
       "      <td>entropy</td>\n",
       "      <td>800</td>\n",
       "      <td>{'criterion': 'entropy', 'n_estimators': 800}</td>\n",
       "      <td>0.935856</td>\n",
       "      <td>0.937652</td>\n",
       "      <td>0.933044</td>\n",
       "      <td>0.935517</td>\n",
       "      <td>0.001896</td>\n",
       "      <td>5</td>\n",
       "    </tr>\n",
       "    <tr>\n",
       "      <td>8</td>\n",
       "      <td>88.706592</td>\n",
       "      <td>0.150331</td>\n",
       "      <td>5.724556</td>\n",
       "      <td>0.018736</td>\n",
       "      <td>entropy</td>\n",
       "      <td>900</td>\n",
       "      <td>{'criterion': 'entropy', 'n_estimators': 900}</td>\n",
       "      <td>0.936059</td>\n",
       "      <td>0.937562</td>\n",
       "      <td>0.933366</td>\n",
       "      <td>0.935663</td>\n",
       "      <td>0.001736</td>\n",
       "      <td>2</td>\n",
       "    </tr>\n",
       "    <tr>\n",
       "      <td>9</td>\n",
       "      <td>105.419931</td>\n",
       "      <td>4.870804</td>\n",
       "      <td>7.115691</td>\n",
       "      <td>1.477155</td>\n",
       "      <td>entropy</td>\n",
       "      <td>1000</td>\n",
       "      <td>{'criterion': 'entropy', 'n_estimators': 1000}</td>\n",
       "      <td>0.935643</td>\n",
       "      <td>0.937251</td>\n",
       "      <td>0.933647</td>\n",
       "      <td>0.935514</td>\n",
       "      <td>0.001474</td>\n",
       "      <td>6</td>\n",
       "    </tr>\n",
       "  </tbody>\n",
       "</table>\n",
       "</div>"
      ],
      "text/plain": [
       "   mean_fit_time  std_fit_time  mean_score_time  std_score_time  \\\n",
       "0      48.600141      0.629846         3.948871        0.025436   \n",
       "1      56.752305      0.696792         4.694367        0.032092   \n",
       "2      64.791797      1.168119         5.361460        0.020246   \n",
       "3      74.418961      0.654995         6.030512        0.028293   \n",
       "4      81.520224      2.657915         6.661952        0.062958   \n",
       "5      60.982500      0.672891         3.836027        0.013571   \n",
       "6      69.243536      0.376446         4.458302        0.009407   \n",
       "7      78.966424      0.213082         5.087245        0.024794   \n",
       "8      88.706592      0.150331         5.724556        0.018736   \n",
       "9     105.419931      4.870804         7.115691        1.477155   \n",
       "\n",
       "  param_criterion param_n_estimators  \\\n",
       "0            gini                600   \n",
       "1            gini                700   \n",
       "2            gini                800   \n",
       "3            gini                900   \n",
       "4            gini               1000   \n",
       "5         entropy                600   \n",
       "6         entropy                700   \n",
       "7         entropy                800   \n",
       "8         entropy                900   \n",
       "9         entropy               1000   \n",
       "\n",
       "                                           params  split0_test_score  \\\n",
       "0      {'criterion': 'gini', 'n_estimators': 600}           0.934426   \n",
       "1      {'criterion': 'gini', 'n_estimators': 700}           0.935549   \n",
       "2      {'criterion': 'gini', 'n_estimators': 800}           0.935327   \n",
       "3      {'criterion': 'gini', 'n_estimators': 900}           0.935521   \n",
       "4     {'criterion': 'gini', 'n_estimators': 1000}           0.935994   \n",
       "5   {'criterion': 'entropy', 'n_estimators': 600}           0.935396   \n",
       "6   {'criterion': 'entropy', 'n_estimators': 700}           0.935862   \n",
       "7   {'criterion': 'entropy', 'n_estimators': 800}           0.935856   \n",
       "8   {'criterion': 'entropy', 'n_estimators': 900}           0.936059   \n",
       "9  {'criterion': 'entropy', 'n_estimators': 1000}           0.935643   \n",
       "\n",
       "   split1_test_score  split2_test_score  mean_test_score  std_test_score  \\\n",
       "0           0.936967           0.933631         0.935008        0.001422   \n",
       "1           0.937131           0.934075         0.935585        0.001248   \n",
       "2           0.937010           0.933870         0.935402        0.001283   \n",
       "3           0.937400           0.933840         0.935587        0.001454   \n",
       "4           0.937792           0.933819         0.935869        0.001624   \n",
       "5           0.937201           0.933083         0.935227        0.001685   \n",
       "6           0.937221           0.932749         0.935278        0.001872   \n",
       "7           0.937652           0.933044         0.935517        0.001896   \n",
       "8           0.937562           0.933366         0.935663        0.001736   \n",
       "9           0.937251           0.933647         0.935514        0.001474   \n",
       "\n",
       "   rank_test_score  \n",
       "0               10  \n",
       "1                4  \n",
       "2                7  \n",
       "3                3  \n",
       "4                1  \n",
       "5                9  \n",
       "6                8  \n",
       "7                5  \n",
       "8                2  \n",
       "9                6  "
      ]
     },
     "execution_count": 42,
     "metadata": {},
     "output_type": "execute_result"
    }
   ],
   "source": [
    "et_results_df"
   ]
  },
  {
   "cell_type": "code",
   "execution_count": 44,
   "metadata": {},
   "outputs": [
    {
     "data": {
      "text/plain": [
       "<matplotlib.axes._subplots.AxesSubplot at 0x7fbcf4987438>"
      ]
     },
     "execution_count": 44,
     "metadata": {},
     "output_type": "execute_result"
    },
    {
     "data": {
      "image/png": "[encoded data removed]",
      "text/plain": [
       "<Figure size 432x288 with 1 Axes>"
      ]
     },
     "metadata": {
      "needs_background": "light"
     },
     "output_type": "display_data"
    }
   ],
   "source": [
    "sb.lineplot(x=\"param_n_estimators\", \n",
    "            y=\"mean_test_score\",\n",
    "            hue = \"param_criterion\",\n",
    "            data=et_results_df)"
   ]
  },
  {
   "cell_type": "markdown",
   "metadata": {},
   "source": [
    "not really any difference, we go with gini as it is less computationally intensive"
   ]
  },
  {
   "cell_type": "code",
   "execution_count": 10,
   "metadata": {},
   "outputs": [],
   "source": [
    "et_features_params = {\"n_estimators\": [600,700,800,900,1000],\n",
    "             \"criterion\": [\"gini\"],\n",
    "             \"max_features\": [\"auto\", \"sqrt\", \"log2\", None]\n",
    "            }\n",
    "\n"
   ]
  },
  {
   "cell_type": "code",
   "execution_count": 11,
   "metadata": {},
   "outputs": [],
   "source": [
    "grid_search = sel.GridSearchCV(estimator=et_clf, \n",
    "                               param_grid=et_features_params,\n",
    "                               scoring = \"f1_macro\",\n",
    "                               n_jobs = 2,\n",
    "                               cv=3,\n",
    "                               verbose = 10\n",
    "                              )"
   ]
  },
  {
   "cell_type": "code",
   "execution_count": 12,
   "metadata": {},
   "outputs": [
    {
     "name": "stdout",
     "output_type": "stream",
     "text": [
      "Fitting 3 folds for each of 20 candidates, totalling 60 fits\n"
     ]
    },
    {
     "name": "stderr",
     "output_type": "stream",
     "text": [
      "[Parallel(n_jobs=2)]: Using backend LokyBackend with 2 concurrent workers.\n",
      "[Parallel(n_jobs=2)]: Done   1 tasks      | elapsed:   54.0s\n",
      "[Parallel(n_jobs=2)]: Done   4 tasks      | elapsed:  1.9min\n",
      "[Parallel(n_jobs=2)]: Done   9 tasks      | elapsed:  5.2min\n",
      "[Parallel(n_jobs=2)]: Done  14 tasks      | elapsed:  8.3min\n",
      "[Parallel(n_jobs=2)]: Done  21 tasks      | elapsed: 12.2min\n",
      "[Parallel(n_jobs=2)]: Done  28 tasks      | elapsed: 16.5min\n",
      "[Parallel(n_jobs=2)]: Done  37 tasks      | elapsed: 21.2min\n",
      "[Parallel(n_jobs=2)]: Done  46 tasks      | elapsed: 28.9min\n",
      "[Parallel(n_jobs=2)]: Done  57 tasks      | elapsed: 53.8min\n",
      "[Parallel(n_jobs=2)]: Done  60 out of  60 | elapsed: 63.1min finished\n",
      "[Parallel(n_jobs=1)]: Using backend SequentialBackend with 1 concurrent workers.\n",
      "[Parallel(n_jobs=1)]: Done 1000 out of 1000 | elapsed:  2.6min finished\n"
     ]
    },
    {
     "data": {
      "text/plain": [
       "GridSearchCV(cv=3, error_score='raise-deprecating',\n",
       "             estimator=ExtraTreesClassifier(bootstrap=False, class_weight=None,\n",
       "                                            criterion='gini', max_depth=None,\n",
       "                                            max_features='auto',\n",
       "                                            max_leaf_nodes=None,\n",
       "                                            min_impurity_decrease=0.0,\n",
       "                                            min_impurity_split=None,\n",
       "                                            min_samples_leaf=1,\n",
       "                                            min_samples_split=2,\n",
       "                                            min_weight_fraction_leaf=0.0,\n",
       "                                            n_estimators='warn', n_jobs=None,\n",
       "                                            oob_score=False, random_state=42,\n",
       "                                            verbose=True, warm_start=False),\n",
       "             iid='warn', n_jobs=2,\n",
       "             param_grid={'criterion': ['gini'],\n",
       "                         'max_features': ['auto', 'sqrt', 'log2', None],\n",
       "                         'n_estimators': [600, 700, 800, 900, 1000]},\n",
       "             pre_dispatch='2*n_jobs', refit=True, return_train_score=False,\n",
       "             scoring='f1_macro', verbose=10)"
      ]
     },
     "execution_count": 12,
     "metadata": {},
     "output_type": "execute_result"
    }
   ],
   "source": [
    "grid_search.fit(X_train_smol, y_train_smol)"
   ]
  },
  {
   "cell_type": "code",
   "execution_count": 13,
   "metadata": {},
   "outputs": [
    {
     "data": {
      "text/plain": [
       "{'criterion': 'gini', 'max_features': 'auto', 'n_estimators': 1000}"
      ]
     },
     "execution_count": 13,
     "metadata": {},
     "output_type": "execute_result"
    }
   ],
   "source": [
    "grid_search.best_params_"
   ]
  },
  {
   "cell_type": "code",
   "execution_count": 14,
   "metadata": {},
   "outputs": [
    {
     "data": {
      "text/plain": [
       "0.935868594993987"
      ]
     },
     "execution_count": 14,
     "metadata": {},
     "output_type": "execute_result"
    }
   ],
   "source": [
    "grid_search.best_score_"
   ]
  },
  {
   "cell_type": "markdown",
   "metadata": {},
   "source": []
  },
  {
   "cell_type": "markdown",
   "metadata": {},
   "source": [
    "not making any changes, looks like we top out at 0.936ish. Bit better than random forests, nearly as good as the KNN, but not as good as the SVMs\n"
   ]
  }
 ],
 "metadata": {
  "kernelspec": {
   "display_name": "minst-ensemble",
   "language": "python",
   "name": "minst-ensemble"
  },
  "language_info": {
   "codemirror_mode": {
    "name": "ipython",
    "version": 3
   },
   "file_extension": ".py",
   "mimetype": "text/x-python",
   "name": "python",
   "nbconvert_exporter": "python",
   "pygments_lexer": "ipython3",
   "version": "3.6.8"
  },
  "toc": {
   "base_numbering": 1,
   "nav_menu": {},
   "number_sections": true,
   "sideBar": true,
   "skip_h1_title": false,
   "title_cell": "Table of Contents",
   "title_sidebar": "Contents",
   "toc_cell": false,
   "toc_position": {},
   "toc_section_display": true,
   "toc_window_display": false
  },
  "varInspector": {
   "cols": {
    "lenName": 16,
    "lenType": 16,
    "lenVar": 40
   },
   "kernels_config": {
    "python": {
     "delete_cmd_postfix": "",
     "delete_cmd_prefix": "del ",
     "library": "var_list.py",
     "varRefreshCmd": "print(var_dic_list())"
    },
    "r": {
     "delete_cmd_postfix": ") ",
     "delete_cmd_prefix": "rm(",
     "library": "var_list.r",
     "varRefreshCmd": "cat(var_dic_list()) "
    }
   },
   "types_to_exclude": [
    "module",
    "function",
    "builtin_function_or_method",
    "instance",
    "_Feature"
   ],
   "window_display": false
  }
 },
 "nbformat": 4,
 "nbformat_minor": 2
}
