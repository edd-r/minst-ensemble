{
 "cells": [
  {
   "cell_type": "code",
   "execution_count": 46,
   "metadata": {},
   "outputs": [],
   "source": [
    "import os\n",
    "import sys\n",
    "import importlib\n",
    "\n",
    "import pandas as pd\n",
    "import numpy as np\n",
    "import sklearn.model_selection as sel\n",
    "import sklearn.metrics as metrics\n",
    "import sklearn.ensemble as ensemble\n",
    "import seaborn as sb\n",
    "\n",
    "from sklearn import svm\n",
    "\n",
    "\n",
    "# add project modules to the path\n",
    "path_to_module = os.path.abspath(os.path.join(os.getcwd(),\"..\",\"src/\"))\n",
    "sys.path.append(path_to_module)\n",
    "\n",
    "import src.models.train_model as train"
   ]
  },
  {
   "cell_type": "markdown",
   "metadata": {},
   "source": [
    "I'm now repeating code a lot here, bad! Will need to write bits of this"
   ]
  },
  {
   "cell_type": "code",
   "execution_count": 2,
   "metadata": {},
   "outputs": [
    {
     "name": "stderr",
     "output_type": "stream",
     "text": [
      "loading files from /home/edd/Documents/Projects/minst-ensemble/data/processed: 100%|██████████| 4/4 [00:00<00:00, 56.19it/s]\n"
     ]
    }
   ],
   "source": [
    "path_to_data = os.path.abspath(os.path.join(os.getcwd(),\n",
    "                                            \"..\",\n",
    "                                            \"data/processed/\"\n",
    "                                           ))\n",
    "\n",
    "data_dict = train.load_processed_data(file_path=path_to_data)"
   ]
  },
  {
   "cell_type": "code",
   "execution_count": 3,
   "metadata": {},
   "outputs": [],
   "source": [
    "X = data_dict[\"X_train\"]\n",
    "y = data_dict[\"y_train\"]"
   ]
  },
  {
   "cell_type": "code",
   "execution_count": 4,
   "metadata": {},
   "outputs": [],
   "source": [
    "X_train, X_test, y_train, y_test = sel.train_test_split(X,\n",
    "                                                    y,\n",
    "                                                    test_size=0.3,\n",
    "                                                    random_state=42,\n",
    "                                                    shuffle=True,\n",
    "                                                    stratify=y)"
   ]
  },
  {
   "cell_type": "code",
   "execution_count": 5,
   "metadata": {},
   "outputs": [],
   "source": [
    "X_train_smol, X_test_smol, y_train_smol, y_test_smol = sel.train_test_split(X,\n",
    "                                                    y,\n",
    "                                                    test_size=0.09,\n",
    "                                                    train_size=0.21,\n",
    "                                                    random_state=42,\n",
    "                                                    shuffle=True,\n",
    "                                                    stratify=y)"
   ]
  },
  {
   "cell_type": "code",
   "execution_count": 16,
   "metadata": {},
   "outputs": [
    {
     "ename": "TypeError",
     "evalue": "__init__() got an unexpected keyword argument 'class_weights'",
     "output_type": "error",
     "traceback": [
      "\u001b[0;31m---------------------------------------------------------------------------\u001b[0m",
      "\u001b[0;31mTypeError\u001b[0m                                 Traceback (most recent call last)",
      "\u001b[0;32m<ipython-input-16-e6d359370923>\u001b[0m in \u001b[0;36m<module>\u001b[0;34m\u001b[0m\n\u001b[1;32m      2\u001b[0m                                          \u001b[0mrandom_state\u001b[0m\u001b[0;34m=\u001b[0m\u001b[0;36m42\u001b[0m\u001b[0;34m,\u001b[0m\u001b[0;34m\u001b[0m\u001b[0;34m\u001b[0m\u001b[0m\n\u001b[1;32m      3\u001b[0m                                          \u001b[0mverbose\u001b[0m\u001b[0;34m=\u001b[0m\u001b[0;32mTrue\u001b[0m\u001b[0;34m,\u001b[0m\u001b[0;34m\u001b[0m\u001b[0;34m\u001b[0m\u001b[0m\n\u001b[0;32m----> 4\u001b[0;31m                                          class_weights=\"balanced\")\n\u001b[0m",
      "\u001b[0;31mTypeError\u001b[0m: __init__() got an unexpected keyword argument 'class_weights'"
     ]
    }
   ],
   "source": [
    "rf_clf = ensemble.RandomForestClassifier(\n",
    "                                         random_state=42,\n",
    "                                         verbose=True,\n",
    "                                         class_weights=\"balanced\")"
   ]
  },
  {
   "cell_type": "code",
   "execution_count": 47,
   "metadata": {},
   "outputs": [],
   "source": [
    "rf_params = {\"n_estimators\": [100,200,500,1000,2000, 5000],\n",
    "            }"
   ]
  },
  {
   "cell_type": "code",
   "execution_count": 48,
   "metadata": {},
   "outputs": [],
   "source": [
    "grid_search = sel.GridSearchCV(estimator=rf_clf, \n",
    "                               param_grid=rf_params,\n",
    "                               scoring = \"f1_macro\",\n",
    "                               n_jobs = 2,\n",
    "                               cv=3,\n",
    "                               verbose = 10\n",
    "                              )"
   ]
  },
  {
   "cell_type": "code",
   "execution_count": 40,
   "metadata": {},
   "outputs": [
    {
     "name": "stdout",
     "output_type": "stream",
     "text": [
      "Fitting 3 folds for each of 4 candidates, totalling 12 fits\n"
     ]
    },
    {
     "name": "stderr",
     "output_type": "stream",
     "text": [
      "[Parallel(n_jobs=2)]: Using backend LokyBackend with 2 concurrent workers.\n",
      "[Parallel(n_jobs=2)]: Done   1 tasks      | elapsed:   34.0s\n",
      "[Parallel(n_jobs=2)]: Done   4 tasks      | elapsed:  3.4min\n",
      "[Parallel(n_jobs=2)]: Done   9 tasks      | elapsed: 15.5min\n",
      "[Parallel(n_jobs=2)]: Done  12 out of  12 | elapsed: 35.4min finished\n",
      "[Parallel(n_jobs=1)]: Using backend SequentialBackend with 1 concurrent workers.\n",
      "[Parallel(n_jobs=1)]: Done 2000 out of 2000 | elapsed: 16.7min finished\n"
     ]
    },
    {
     "data": {
      "text/plain": [
       "GridSearchCV(cv=3, error_score='raise-deprecating',\n",
       "             estimator=RandomForestClassifier(bootstrap=True, class_weight=None,\n",
       "                                              criterion='gini', max_depth=None,\n",
       "                                              max_features='auto',\n",
       "                                              max_leaf_nodes=None,\n",
       "                                              min_impurity_decrease=0.0,\n",
       "                                              min_impurity_split=None,\n",
       "                                              min_samples_leaf=1,\n",
       "                                              min_samples_split=2,\n",
       "                                              min_weight_fraction_leaf=0.0,\n",
       "                                              n_estimators='warn', n_jobs=None,\n",
       "                                              oob_score=False, random_state=42,\n",
       "                                              verbose=True, warm_start=False),\n",
       "             iid='warn', n_jobs=2,\n",
       "             param_grid={'n_estimators': [100, 500, 1000, 2000]},\n",
       "             pre_dispatch='2*n_jobs', refit=True, return_train_score=False,\n",
       "             scoring='f1_macro', verbose=10)"
      ]
     },
     "execution_count": 40,
     "metadata": {},
     "output_type": "execute_result"
    }
   ],
   "source": [
    "grid_search.fit(X_train_smol, y_train_smol)"
   ]
  },
  {
   "cell_type": "code",
   "execution_count": 41,
   "metadata": {},
   "outputs": [
    {
     "data": {
      "text/plain": [
       "{'n_estimators': 2000}"
      ]
     },
     "execution_count": 41,
     "metadata": {},
     "output_type": "execute_result"
    }
   ],
   "source": [
    "grid_search.best_params_"
   ]
  },
  {
   "cell_type": "code",
   "execution_count": 42,
   "metadata": {},
   "outputs": [
    {
     "data": {
      "text/plain": [
       "0.9292032870739455"
      ]
     },
     "execution_count": 42,
     "metadata": {},
     "output_type": "execute_result"
    }
   ],
   "source": [
    "grid_search.best_score_"
   ]
  },
  {
   "cell_type": "markdown",
   "metadata": {},
   "source": [
    "the biggest model is bestest."
   ]
  },
  {
   "cell_type": "code",
   "execution_count": 44,
   "metadata": {},
   "outputs": [],
   "source": [
    "rf_results_df = pd.DataFrame(grid_search.cv_results_)"
   ]
  },
  {
   "cell_type": "code",
   "execution_count": 49,
   "metadata": {},
   "outputs": [
    {
     "data": {
      "text/plain": [
       "<matplotlib.axes._subplots.AxesSubplot at 0x7f4d9805c198>"
      ]
     },
     "execution_count": 49,
     "metadata": {},
     "output_type": "execute_result"
    },
    {
     "data": {
      "image/png": "[encoded data removed]",
      "text/plain": [
       "<Figure size 432x288 with 1 Axes>"
      ]
     },
     "metadata": {
      "needs_background": "light"
     },
     "output_type": "display_data"
    }
   ],
   "source": [
    "sb.lineplot(x=\"param_n_estimators\", y=\"mean_test_score\",data=rf_results_df)"
   ]
  },
  {
   "cell_type": "markdown",
   "metadata": {},
   "source": [
    "basically, little change from 500 onward, lets explore in more detail"
   ]
  },
  {
   "cell_type": "code",
   "execution_count": 50,
   "metadata": {},
   "outputs": [],
   "source": [
    "rf_params = {\"n_estimators\": [x for x in range(100,1600,100)],\n",
    "             \n",
    "            }"
   ]
  },
  {
   "cell_type": "code",
   "execution_count": 51,
   "metadata": {},
   "outputs": [],
   "source": [
    "grid_search = sel.GridSearchCV(estimator=rf_clf, \n",
    "                               param_grid=rf_params,\n",
    "                               scoring = \"f1_macro\",\n",
    "                               n_jobs = 2,\n",
    "                               cv=3,\n",
    "                               verbose = 10\n",
    "                              )"
   ]
  },
  {
   "cell_type": "code",
   "execution_count": 52,
   "metadata": {},
   "outputs": [
    {
     "name": "stdout",
     "output_type": "stream",
     "text": [
      "Fitting 3 folds for each of 15 candidates, totalling 45 fits\n"
     ]
    },
    {
     "name": "stderr",
     "output_type": "stream",
     "text": [
      "[Parallel(n_jobs=2)]: Using backend LokyBackend with 2 concurrent workers.\n",
      "[Parallel(n_jobs=2)]: Done   1 tasks      | elapsed:   37.3s\n",
      "[Parallel(n_jobs=2)]: Done   4 tasks      | elapsed:  2.1min\n",
      "[Parallel(n_jobs=2)]: Done   9 tasks      | elapsed:  6.5min\n",
      "[Parallel(n_jobs=2)]: Done  14 tasks      | elapsed: 12.9min\n",
      "[Parallel(n_jobs=2)]: Done  21 tasks      | elapsed: 26.3min\n",
      "[Parallel(n_jobs=2)]: Done  28 tasks      | elapsed: 43.9min\n",
      "[Parallel(n_jobs=2)]: Done  37 tasks      | elapsed: 73.5min\n",
      "[Parallel(n_jobs=2)]: Done  45 out of  45 | elapsed: 105.4min finished\n",
      "[Parallel(n_jobs=1)]: Using backend SequentialBackend with 1 concurrent workers.\n",
      "[Parallel(n_jobs=1)]: Done 1300 out of 1300 | elapsed: 11.0min finished\n"
     ]
    },
    {
     "data": {
      "text/plain": [
       "GridSearchCV(cv=3, error_score='raise-deprecating',\n",
       "             estimator=RandomForestClassifier(bootstrap=True, class_weight=None,\n",
       "                                              criterion='gini', max_depth=None,\n",
       "                                              max_features='auto',\n",
       "                                              max_leaf_nodes=None,\n",
       "                                              min_impurity_decrease=0.0,\n",
       "                                              min_impurity_split=None,\n",
       "                                              min_samples_leaf=1,\n",
       "                                              min_samples_split=2,\n",
       "                                              min_weight_fraction_leaf=0.0,\n",
       "                                              n_estimators='warn', n_jobs=None,\n",
       "                                              oob_score=False, random_state=42,\n",
       "                                              verbose=True, warm_start=False),\n",
       "             iid='warn', n_jobs=2,\n",
       "             param_grid={'n_estimators': [100, 200, 300, 400, 500, 600, 700,\n",
       "                                          800, 900, 1000, 1100, 1200, 1300,\n",
       "                                          1400, 1500]},\n",
       "             pre_dispatch='2*n_jobs', refit=True, return_train_score=False,\n",
       "             scoring='f1_macro', verbose=10)"
      ]
     },
     "execution_count": 52,
     "metadata": {},
     "output_type": "execute_result"
    }
   ],
   "source": [
    "grid_search.fit(X_train_smol, y_train_smol)"
   ]
  },
  {
   "cell_type": "code",
   "execution_count": 53,
   "metadata": {},
   "outputs": [],
   "source": [
    "rf_results_df = pd.DataFrame(grid_search.cv_results_)"
   ]
  },
  {
   "cell_type": "code",
   "execution_count": 54,
   "metadata": {},
   "outputs": [
    {
     "data": {
      "text/plain": [
       "<matplotlib.axes._subplots.AxesSubplot at 0x7f4d80962ac8>"
      ]
     },
     "execution_count": 54,
     "metadata": {},
     "output_type": "execute_result"
    },
    {
     "data": {
      "image/png": "[encoded data removed]",
      "text/plain": [
       "<Figure size 432x288 with 1 Axes>"
      ]
     },
     "metadata": {
      "needs_background": "light"
     },
     "output_type": "display_data"
    }
   ],
   "source": [
    "sb.lineplot(x=\"param_n_estimators\", y=\"mean_test_score\",data=rf_results_df)"
   ]
  },
  {
   "cell_type": "markdown",
   "metadata": {},
   "source": [
    "we don't get much improvement above 700.\n",
    "Criterieon don't ususlly do much, but we can see if there are improvements"
   ]
  },
  {
   "cell_type": "code",
   "execution_count": 55,
   "metadata": {},
   "outputs": [],
   "source": [
    "rf_params = {\"n_estimators\": [400, 500, 600, 700],\n",
    "             \"criterion\": [\"gini\", \"entropy\"]\n",
    "            }"
   ]
  },
  {
   "cell_type": "code",
   "execution_count": 56,
   "metadata": {},
   "outputs": [],
   "source": [
    "grid_search = sel.GridSearchCV(estimator=rf_clf, \n",
    "                               param_grid=rf_crit_params,\n",
    "                               scoring = \"f1_macro\",\n",
    "                               n_jobs = 2,\n",
    "                               cv=3,\n",
    "                               verbose = 10\n",
    "                              )"
   ]
  },
  {
   "cell_type": "code",
   "execution_count": 57,
   "metadata": {},
   "outputs": [
    {
     "name": "stdout",
     "output_type": "stream",
     "text": [
      "Fitting 3 folds for each of 6 candidates, totalling 18 fits\n"
     ]
    },
    {
     "name": "stderr",
     "output_type": "stream",
     "text": [
      "[Parallel(n_jobs=2)]: Using backend LokyBackend with 2 concurrent workers.\n",
      "[Parallel(n_jobs=2)]: Done   1 tasks      | elapsed:  2.6min\n",
      "[Parallel(n_jobs=2)]: Done   4 tasks      | elapsed:  5.6min\n",
      "[Parallel(n_jobs=2)]: Done   9 tasks      | elapsed: 14.7min\n",
      "[Parallel(n_jobs=2)]: Done  14 tasks      | elapsed: 37.9min\n",
      "[Parallel(n_jobs=2)]: Done  18 out of  18 | elapsed: 62.1min finished\n",
      "[Parallel(n_jobs=1)]: Using backend SequentialBackend with 1 concurrent workers.\n",
      "[Parallel(n_jobs=1)]: Done 600 out of 600 | elapsed:  4.9min finished\n"
     ]
    },
    {
     "data": {
      "text/plain": [
       "GridSearchCV(cv=3, error_score='raise-deprecating',\n",
       "             estimator=RandomForestClassifier(bootstrap=True, class_weight=None,\n",
       "                                              criterion='gini', max_depth=None,\n",
       "                                              max_features='auto',\n",
       "                                              max_leaf_nodes=None,\n",
       "                                              min_impurity_decrease=0.0,\n",
       "                                              min_impurity_split=None,\n",
       "                                              min_samples_leaf=1,\n",
       "                                              min_samples_split=2,\n",
       "                                              min_weight_fraction_leaf=0.0,\n",
       "                                              n_estimators='warn', n_jobs=None,\n",
       "                                              oob_score=False, random_state=42,\n",
       "                                              verbose=True, warm_start=False),\n",
       "             iid='warn', n_jobs=2,\n",
       "             param_grid={'criterion': ['gini', 'entropy'],\n",
       "                         'n_estimators': [400, 500, 600]},\n",
       "             pre_dispatch='2*n_jobs', refit=True, return_train_score=False,\n",
       "             scoring='f1_macro', verbose=10)"
      ]
     },
     "execution_count": 57,
     "metadata": {},
     "output_type": "execute_result"
    }
   ],
   "source": [
    "grid_search.fit(X_train_smol, y_train_smol)"
   ]
  },
  {
   "cell_type": "code",
   "execution_count": 58,
   "metadata": {},
   "outputs": [
    {
     "data": {
      "text/plain": [
       "{'criterion': 'gini', 'n_estimators': 600}"
      ]
     },
     "execution_count": 58,
     "metadata": {},
     "output_type": "execute_result"
    }
   ],
   "source": [
    "grid_search.best_params_"
   ]
  },
  {
   "cell_type": "code",
   "execution_count": 60,
   "metadata": {},
   "outputs": [
    {
     "data": {
      "text/plain": [
       "0.9288755304279496"
      ]
     },
     "execution_count": 60,
     "metadata": {},
     "output_type": "execute_result"
    }
   ],
   "source": [
    "grid_search.best_score_"
   ]
  },
  {
   "cell_type": "code",
   "execution_count": 61,
   "metadata": {},
   "outputs": [],
   "source": [
    "rf_results_df = pd.DataFrame(grid_search.cv_results_)"
   ]
  },
  {
   "cell_type": "code",
   "execution_count": 62,
   "metadata": {},
   "outputs": [
    {
     "data": {
      "text/html": [
       "<div>\n",
       "<style scoped>\n",
       "    .dataframe tbody tr th:only-of-type {\n",
       "        vertical-align: middle;\n",
       "    }\n",
       "\n",
       "    .dataframe tbody tr th {\n",
       "        vertical-align: top;\n",
       "    }\n",
       "\n",
       "    .dataframe thead th {\n",
       "        text-align: right;\n",
       "    }\n",
       "</style>\n",
       "<table border=\"1\" class=\"dataframe\">\n",
       "  <thead>\n",
       "    <tr style=\"text-align: right;\">\n",
       "      <th></th>\n",
       "      <th>mean_fit_time</th>\n",
       "      <th>std_fit_time</th>\n",
       "      <th>mean_score_time</th>\n",
       "      <th>std_score_time</th>\n",
       "      <th>param_criterion</th>\n",
       "      <th>param_n_estimators</th>\n",
       "      <th>params</th>\n",
       "      <th>split0_test_score</th>\n",
       "      <th>split1_test_score</th>\n",
       "      <th>split2_test_score</th>\n",
       "      <th>mean_test_score</th>\n",
       "      <th>std_test_score</th>\n",
       "      <th>rank_test_score</th>\n",
       "    </tr>\n",
       "  </thead>\n",
       "  <tbody>\n",
       "    <tr>\n",
       "      <td>0</td>\n",
       "      <td>144.270923</td>\n",
       "      <td>5.409939</td>\n",
       "      <td>2.021882</td>\n",
       "      <td>0.025034</td>\n",
       "      <td>gini</td>\n",
       "      <td>400</td>\n",
       "      <td>{'criterion': 'gini', 'n_estimators': 400}</td>\n",
       "      <td>0.926505</td>\n",
       "      <td>0.930711</td>\n",
       "      <td>0.926041</td>\n",
       "      <td>0.927752</td>\n",
       "      <td>0.002101</td>\n",
       "      <td>4</td>\n",
       "    </tr>\n",
       "    <tr>\n",
       "      <td>1</td>\n",
       "      <td>172.491786</td>\n",
       "      <td>1.575095</td>\n",
       "      <td>2.581618</td>\n",
       "      <td>0.061082</td>\n",
       "      <td>gini</td>\n",
       "      <td>500</td>\n",
       "      <td>{'criterion': 'gini', 'n_estimators': 500}</td>\n",
       "      <td>0.927876</td>\n",
       "      <td>0.930425</td>\n",
       "      <td>0.927289</td>\n",
       "      <td>0.928530</td>\n",
       "      <td>0.001361</td>\n",
       "      <td>2</td>\n",
       "    </tr>\n",
       "    <tr>\n",
       "      <td>2</td>\n",
       "      <td>202.282710</td>\n",
       "      <td>1.516587</td>\n",
       "      <td>2.879450</td>\n",
       "      <td>0.012518</td>\n",
       "      <td>gini</td>\n",
       "      <td>600</td>\n",
       "      <td>{'criterion': 'gini', 'n_estimators': 600}</td>\n",
       "      <td>0.928345</td>\n",
       "      <td>0.930970</td>\n",
       "      <td>0.927311</td>\n",
       "      <td>0.928876</td>\n",
       "      <td>0.001540</td>\n",
       "      <td>1</td>\n",
       "    </tr>\n",
       "    <tr>\n",
       "      <td>3</td>\n",
       "      <td>484.423369</td>\n",
       "      <td>3.940132</td>\n",
       "      <td>1.790881</td>\n",
       "      <td>0.034414</td>\n",
       "      <td>entropy</td>\n",
       "      <td>400</td>\n",
       "      <td>{'criterion': 'entropy', 'n_estimators': 400}</td>\n",
       "      <td>0.927486</td>\n",
       "      <td>0.929197</td>\n",
       "      <td>0.925000</td>\n",
       "      <td>0.927228</td>\n",
       "      <td>0.001723</td>\n",
       "      <td>6</td>\n",
       "    </tr>\n",
       "    <tr>\n",
       "      <td>4</td>\n",
       "      <td>591.959219</td>\n",
       "      <td>0.729666</td>\n",
       "      <td>2.214867</td>\n",
       "      <td>0.000445</td>\n",
       "      <td>entropy</td>\n",
       "      <td>500</td>\n",
       "      <td>{'criterion': 'entropy', 'n_estimators': 500}</td>\n",
       "      <td>0.927885</td>\n",
       "      <td>0.929586</td>\n",
       "      <td>0.924958</td>\n",
       "      <td>0.927476</td>\n",
       "      <td>0.001911</td>\n",
       "      <td>5</td>\n",
       "    </tr>\n",
       "    <tr>\n",
       "      <td>5</td>\n",
       "      <td>725.196746</td>\n",
       "      <td>6.079409</td>\n",
       "      <td>2.735804</td>\n",
       "      <td>0.258992</td>\n",
       "      <td>entropy</td>\n",
       "      <td>600</td>\n",
       "      <td>{'criterion': 'entropy', 'n_estimators': 600}</td>\n",
       "      <td>0.928004</td>\n",
       "      <td>0.929770</td>\n",
       "      <td>0.925699</td>\n",
       "      <td>0.927824</td>\n",
       "      <td>0.001667</td>\n",
       "      <td>3</td>\n",
       "    </tr>\n",
       "  </tbody>\n",
       "</table>\n",
       "</div>"
      ],
      "text/plain": [
       "   mean_fit_time  std_fit_time  mean_score_time  std_score_time  \\\n",
       "0     144.270923      5.409939         2.021882        0.025034   \n",
       "1     172.491786      1.575095         2.581618        0.061082   \n",
       "2     202.282710      1.516587         2.879450        0.012518   \n",
       "3     484.423369      3.940132         1.790881        0.034414   \n",
       "4     591.959219      0.729666         2.214867        0.000445   \n",
       "5     725.196746      6.079409         2.735804        0.258992   \n",
       "\n",
       "  param_criterion param_n_estimators  \\\n",
       "0            gini                400   \n",
       "1            gini                500   \n",
       "2            gini                600   \n",
       "3         entropy                400   \n",
       "4         entropy                500   \n",
       "5         entropy                600   \n",
       "\n",
       "                                          params  split0_test_score  \\\n",
       "0     {'criterion': 'gini', 'n_estimators': 400}           0.926505   \n",
       "1     {'criterion': 'gini', 'n_estimators': 500}           0.927876   \n",
       "2     {'criterion': 'gini', 'n_estimators': 600}           0.928345   \n",
       "3  {'criterion': 'entropy', 'n_estimators': 400}           0.927486   \n",
       "4  {'criterion': 'entropy', 'n_estimators': 500}           0.927885   \n",
       "5  {'criterion': 'entropy', 'n_estimators': 600}           0.928004   \n",
       "\n",
       "   split1_test_score  split2_test_score  mean_test_score  std_test_score  \\\n",
       "0           0.930711           0.926041         0.927752        0.002101   \n",
       "1           0.930425           0.927289         0.928530        0.001361   \n",
       "2           0.930970           0.927311         0.928876        0.001540   \n",
       "3           0.929197           0.925000         0.927228        0.001723   \n",
       "4           0.929586           0.924958         0.927476        0.001911   \n",
       "5           0.929770           0.925699         0.927824        0.001667   \n",
       "\n",
       "   rank_test_score  \n",
       "0                4  \n",
       "1                2  \n",
       "2                1  \n",
       "3                6  \n",
       "4                5  \n",
       "5                3  "
      ]
     },
     "execution_count": 62,
     "metadata": {},
     "output_type": "execute_result"
    }
   ],
   "source": [
    "rf_results_df"
   ]
  },
  {
   "cell_type": "code",
   "execution_count": 64,
   "metadata": {},
   "outputs": [
    {
     "data": {
      "text/plain": [
       "<matplotlib.axes._subplots.AxesSubplot at 0x7f4d8016fd68>"
      ]
     },
     "execution_count": 64,
     "metadata": {},
     "output_type": "execute_result"
    },
    {
     "data": {
      "image/png": "[encoded data removed]",
      "text/plain": [
       "<Figure size 432x288 with 1 Axes>"
      ]
     },
     "metadata": {
      "needs_background": "light"
     },
     "output_type": "display_data"
    }
   ],
   "source": [
    "sb.lineplot(x=\"param_n_estimators\", \n",
    "            y=\"mean_test_score\",\n",
    "            hue = \"param_criterion\",\n",
    "            data=rf_results_df)"
   ]
  },
  {
   "cell_type": "markdown",
   "metadata": {},
   "source": [
    "gini is marginally, but consistently better. "
   ]
  },
  {
   "cell_type": "code",
   "execution_count": 68,
   "metadata": {},
   "outputs": [],
   "source": [
    "rf_features_params = {\"n_estimators\": [400, 500, 600, 700],\n",
    "             \"criterion\": [\"gini\"],\n",
    "             \"max_features\": [\"auto\", \"sqrt\", \"log2\", None]\n",
    "            }\n",
    "\n"
   ]
  },
  {
   "cell_type": "code",
   "execution_count": 71,
   "metadata": {},
   "outputs": [],
   "source": [
    "grid_search = sel.GridSearchCV(estimator=rf_clf, \n",
    "                               param_grid=rf_features_params,\n",
    "                               scoring = \"f1_macro\",\n",
    "                               n_jobs = 2,\n",
    "                               cv=3,\n",
    "                               verbose = 10\n",
    "                              )"
   ]
  },
  {
   "cell_type": "code",
   "execution_count": 72,
   "metadata": {},
   "outputs": [
    {
     "name": "stdout",
     "output_type": "stream",
     "text": [
      "Fitting 3 folds for each of 16 candidates, totalling 48 fits\n"
     ]
    },
    {
     "name": "stderr",
     "output_type": "stream",
     "text": [
      "[Parallel(n_jobs=2)]: Using backend LokyBackend with 2 concurrent workers.\n",
      "[Parallel(n_jobs=2)]: Done   1 tasks      | elapsed:  2.3min\n",
      "[Parallel(n_jobs=2)]: Done   4 tasks      | elapsed:  5.1min\n",
      "[Parallel(n_jobs=2)]: Done   9 tasks      | elapsed: 14.7min\n",
      "[Parallel(n_jobs=2)]: Done  14 tasks      | elapsed: 22.2min\n",
      "[Parallel(n_jobs=2)]: Done  21 tasks      | elapsed: 34.1min\n",
      "[Parallel(n_jobs=2)]: Done  28 tasks      | elapsed: 43.8min\n",
      "[Parallel(n_jobs=2)]: Done  37 tasks      | elapsed: 71.4min\n",
      "[Parallel(n_jobs=2)]: Done  48 out of  48 | elapsed: 215.1min finished\n",
      "[Parallel(n_jobs=1)]: Using backend SequentialBackend with 1 concurrent workers.\n",
      "[Parallel(n_jobs=1)]: Done 600 out of 600 | elapsed:  5.1min finished\n"
     ]
    },
    {
     "data": {
      "text/plain": [
       "GridSearchCV(cv=3, error_score='raise-deprecating',\n",
       "             estimator=RandomForestClassifier(bootstrap=True, class_weight=None,\n",
       "                                              criterion='gini', max_depth=None,\n",
       "                                              max_features='auto',\n",
       "                                              max_leaf_nodes=None,\n",
       "                                              min_impurity_decrease=0.0,\n",
       "                                              min_impurity_split=None,\n",
       "                                              min_samples_leaf=1,\n",
       "                                              min_samples_split=2,\n",
       "                                              min_weight_fraction_leaf=0.0,\n",
       "                                              n_estimators='warn', n_jobs=None,\n",
       "                                              oob_score=False, random_state=42,\n",
       "                                              verbose=True, warm_start=False),\n",
       "             iid='warn', n_jobs=2,\n",
       "             param_grid={'criterion': ['gini'],\n",
       "                         'max_features': ['auto', 'sqrt', 'log2', None],\n",
       "                         'n_estimators': [400, 500, 600, 700]},\n",
       "             pre_dispatch='2*n_jobs', refit=True, return_train_score=False,\n",
       "             scoring='f1_macro', verbose=10)"
      ]
     },
     "execution_count": 72,
     "metadata": {},
     "output_type": "execute_result"
    }
   ],
   "source": [
    "grid_search.fit(X_train_smol, y_train_smol)"
   ]
  },
  {
   "cell_type": "code",
   "execution_count": 73,
   "metadata": {},
   "outputs": [
    {
     "data": {
      "text/plain": [
       "{'criterion': 'gini', 'max_features': 'auto', 'n_estimators': 600}"
      ]
     },
     "execution_count": 73,
     "metadata": {},
     "output_type": "execute_result"
    }
   ],
   "source": [
    "grid_search.best_params_"
   ]
  },
  {
   "cell_type": "code",
   "execution_count": 75,
   "metadata": {},
   "outputs": [
    {
     "data": {
      "text/plain": [
       "0.9288755304279496"
      ]
     },
     "execution_count": 75,
     "metadata": {},
     "output_type": "execute_result"
    }
   ],
   "source": [
    "grid_search.best_score_"
   ]
  },
  {
   "cell_type": "code",
   "execution_count": null,
   "metadata": {},
   "outputs": [],
   "source": []
  },
  {
   "cell_type": "code",
   "execution_count": null,
   "metadata": {},
   "outputs": [],
   "source": []
  }
 ],
 "metadata": {
  "kernelspec": {
   "display_name": "minst-ensemble",
   "language": "python",
   "name": "minst-ensemble"
  },
  "language_info": {
   "codemirror_mode": {
    "name": "ipython",
    "version": 3
   },
   "file_extension": ".py",
   "mimetype": "text/x-python",
   "name": "python",
   "nbconvert_exporter": "python",
   "pygments_lexer": "ipython3",
   "version": "3.6.8"
  },
  "toc": {
   "base_numbering": 1,
   "nav_menu": {},
   "number_sections": true,
   "sideBar": true,
   "skip_h1_title": false,
   "title_cell": "Table of Contents",
   "title_sidebar": "Contents",
   "toc_cell": false,
   "toc_position": {},
   "toc_section_display": true,
   "toc_window_display": false
  },
  "varInspector": {
   "cols": {
    "lenName": 16,
    "lenType": 16,
    "lenVar": 40
   },
   "kernels_config": {
    "python": {
     "delete_cmd_postfix": "",
     "delete_cmd_prefix": "del ",
     "library": "var_list.py",
     "varRefreshCmd": "print(var_dic_list())"
    },
    "r": {
     "delete_cmd_postfix": ") ",
     "delete_cmd_prefix": "rm(",
     "library": "var_list.r",
     "varRefreshCmd": "cat(var_dic_list()) "
    }
   },
   "types_to_exclude": [
    "module",
    "function",
    "builtin_function_or_method",
    "instance",
    "_Feature"
   ],
   "window_display": false
  }
 },
 "nbformat": 4,
 "nbformat_minor": 2
}
