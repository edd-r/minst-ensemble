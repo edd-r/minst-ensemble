{
 "cells": [
  {
   "cell_type": "code",
   "execution_count": 10,
   "metadata": {},
   "outputs": [],
   "source": [
    "import os\n",
    "import sys\n",
    "import importlib\n",
    "\n",
    "import pandas as pd\n",
    "import numpy as np\n",
    "import sklearn.tree as tree\n",
    "import sklearn.model_selection as sel\n",
    "import sklearn.metrics as metrics\n",
    "import xgboost.sklearn as xgb\n",
    "import seaborn as sb\n",
    "\n",
    "from sklearn import svm\n",
    "\n",
    "\n",
    "# add project modules to the path\n",
    "path_to_module = os.path.abspath(os.path.join(os.getcwd(),\"..\",\"src/\"))\n",
    "sys.path.append(path_to_module)\n",
    "\n",
    "import src.models.train_model as train"
   ]
  },
  {
   "cell_type": "code",
   "execution_count": 41,
   "metadata": {},
   "outputs": [
    {
     "data": {
      "text/plain": [
       "XGBClassifier(base_score=0.5, booster='gbtree', colsample_bylevel=1,\n",
       "              colsample_bynode=1, colsample_bytree=1, gamma=0,\n",
       "              learning_rate=0.1, max_delta_step=0, max_depth=3,\n",
       "              min_child_weight=1, missing=None, n_estimators=100, n_jobs=1,\n",
       "              nthread=None, objective='binary:logistic', random_state=42,\n",
       "              reg_alpha=0, reg_lambda=1, scale_pos_weight=1, seed=None,\n",
       "              silent=None, subsample=1, verbosity=2)"
      ]
     },
     "execution_count": 41,
     "metadata": {},
     "output_type": "execute_result"
    }
   ],
   "source": [
    "xgb.XGBClassifier(random_state=42,\n",
    "                 verbosity=2)"
   ]
  },
  {
   "cell_type": "markdown",
   "metadata": {},
   "source": [
    "I'm now repeating code a lot here, bad! Will need to write bits of this"
   ]
  },
  {
   "cell_type": "code",
   "execution_count": 2,
   "metadata": {},
   "outputs": [
    {
     "name": "stderr",
     "output_type": "stream",
     "text": [
      "loading files from /home/edd/Documents/Projects/minst-ensemble/data/processed: 100%|██████████| 4/4 [00:01<00:00,  2.02it/s]\n"
     ]
    }
   ],
   "source": [
    "path_to_data = os.path.abspath(os.path.join(os.getcwd(),\n",
    "                                            \"..\",\n",
    "                                            \"data/processed/\"\n",
    "                                           ))\n",
    "\n",
    "data_dict = train.load_processed_data(file_path=path_to_data)"
   ]
  },
  {
   "cell_type": "code",
   "execution_count": 3,
   "metadata": {},
   "outputs": [],
   "source": [
    "X = data_dict[\"X_train\"]\n",
    "y = data_dict[\"y_train\"]"
   ]
  },
  {
   "cell_type": "code",
   "execution_count": 4,
   "metadata": {},
   "outputs": [],
   "source": [
    "X_train, X_test, y_train, y_test = sel.train_test_split(X,\n",
    "                                                    y,\n",
    "                                                    test_size=0.3,\n",
    "                                                    random_state=42,\n",
    "                                                    shuffle=True,\n",
    "                                                    stratify=y)"
   ]
  },
  {
   "cell_type": "code",
   "execution_count": 5,
   "metadata": {},
   "outputs": [],
   "source": [
    "X_train_smol, X_test_smol, y_train_smol, y_test_smol = sel.train_test_split(X,\n",
    "                                                    y,\n",
    "                                                    test_size=0.09,\n",
    "                                                    train_size=0.21,\n",
    "                                                    random_state=42,\n",
    "                                                    shuffle=True,\n",
    "                                                    stratify=y)"
   ]
  },
  {
   "cell_type": "code",
   "execution_count": 47,
   "metadata": {},
   "outputs": [],
   "source": [
    "xgb_clf = xgb.XGBClassifier(random_state=42,\n",
    "                            verbosity=1,\n",
    "                            n_jobs=2)"
   ]
  },
  {
   "cell_type": "code",
   "execution_count": 21,
   "metadata": {},
   "outputs": [],
   "source": [
    "xgb_params = {\"n_estimators\": [100,200,500],\n",
    "              \"learning_rate\": [0.01, 0.1, 1],\n",
    "              \"max_depth\": [3,5,10]\n",
    "             }\n",
    "            "
   ]
  },
  {
   "cell_type": "code",
   "execution_count": 22,
   "metadata": {},
   "outputs": [],
   "source": [
    "grid_search = sel.GridSearchCV(estimator=xgb_clf, \n",
    "                               param_grid=xgb_params,\n",
    "                               scoring = \"f1_macro\",\n",
    "                               n_jobs = 2,\n",
    "                               cv=3,\n",
    "                               verbose = 10\n",
    "                              )"
   ]
  },
  {
   "cell_type": "code",
   "execution_count": 23,
   "metadata": {},
   "outputs": [
    {
     "name": "stdout",
     "output_type": "stream",
     "text": [
      "Fitting 3 folds for each of 27 candidates, totalling 81 fits\n"
     ]
    },
    {
     "name": "stderr",
     "output_type": "stream",
     "text": [
      "[Parallel(n_jobs=2)]: Using backend LokyBackend with 2 concurrent workers.\n",
      "[Parallel(n_jobs=2)]: Done   1 tasks      | elapsed:  2.0min\n",
      "[Parallel(n_jobs=2)]: Done   4 tasks      | elapsed:  6.0min\n",
      "[Parallel(n_jobs=2)]: Done   9 tasks      | elapsed: 23.8min\n",
      "[Parallel(n_jobs=2)]: Done  14 tasks      | elapsed: 37.8min\n",
      "[Parallel(n_jobs=2)]: Done  21 tasks      | elapsed: 80.9min\n",
      "[Parallel(n_jobs=2)]: Done  28 tasks      | elapsed: 149.2min\n",
      "[Parallel(n_jobs=2)]: Done  37 tasks      | elapsed: 186.7min\n",
      "[Parallel(n_jobs=2)]: Done  46 tasks      | elapsed: 231.3min\n",
      "[Parallel(n_jobs=2)]: Done  57 tasks      | elapsed: 295.7min\n",
      "[Parallel(n_jobs=2)]: Done  68 tasks      | elapsed: 477.6min\n",
      "[Parallel(n_jobs=2)]: Done  81 out of  81 | elapsed: 546.7min finished\n"
     ]
    },
    {
     "data": {
      "text/plain": [
       "GridSearchCV(cv=3, error_score='raise-deprecating',\n",
       "             estimator=XGBClassifier(base_score=0.5, booster='gbtree',\n",
       "                                     colsample_bylevel=1, colsample_bynode=1,\n",
       "                                     colsample_bytree=1, gamma=0,\n",
       "                                     learning_rate=0.1, max_delta_step=0,\n",
       "                                     max_depth=3, min_child_weight=1,\n",
       "                                     missing=None, n_estimators=100, n_jobs=2,\n",
       "                                     nthread=None, objective='binary:logistic',\n",
       "                                     random_state=42, reg_alpha=0, reg_lambda=1,\n",
       "                                     scale_pos_weight=1, seed=None, silent=None,\n",
       "                                     subsample=1, verbosity=1),\n",
       "             iid='warn', n_jobs=2,\n",
       "             param_grid={'learning_rate': [0.01, 0.1, 1],\n",
       "                         'max_depth': [3, 5, 10],\n",
       "                         'n_estimators': [100, 200, 500]},\n",
       "             pre_dispatch='2*n_jobs', refit=True, return_train_score=False,\n",
       "             scoring='f1_macro', verbose=10)"
      ]
     },
     "execution_count": 23,
     "metadata": {},
     "output_type": "execute_result"
    }
   ],
   "source": [
    "grid_search.fit(X_train_smol, y_train_smol)"
   ]
  },
  {
   "cell_type": "code",
   "execution_count": 24,
   "metadata": {},
   "outputs": [
    {
     "data": {
      "text/plain": [
       "{'learning_rate': 0.1, 'max_depth': 10, 'n_estimators': 500}"
      ]
     },
     "execution_count": 24,
     "metadata": {},
     "output_type": "execute_result"
    }
   ],
   "source": [
    "\n",
    "grid_search.best_params_"
   ]
  },
  {
   "cell_type": "code",
   "execution_count": 25,
   "metadata": {},
   "outputs": [
    {
     "data": {
      "text/plain": [
       "0.9372817140536147"
      ]
     },
     "execution_count": 25,
     "metadata": {},
     "output_type": "execute_result"
    }
   ],
   "source": [
    "grid_search.best_score_"
   ]
  },
  {
   "cell_type": "markdown",
   "metadata": {},
   "source": [
    "interesting that this is similar to extratrees and randomforest, seems tree based methods can't get over 0.94.\n",
    "\n",
    "Like the beaver building a dam, we can always thow more trees at the problem"
   ]
  },
  {
   "cell_type": "code",
   "execution_count": 32,
   "metadata": {},
   "outputs": [],
   "source": [
    "xgb_params = {\"n_estimators\": [1000, 2000],\n",
    "              \"learning_rate\": [0.01, .1, 1],\n",
    "              \"max_depth\": [5,10]\n",
    "             }"
   ]
  },
  {
   "cell_type": "code",
   "execution_count": 48,
   "metadata": {},
   "outputs": [],
   "source": [
    "grid_search = sel.GridSearchCV(estimator=xgb_clf, \n",
    "                               param_grid=xgb_params,\n",
    "                               scoring = \"f1_macro\",\n",
    "                               n_jobs = 2,\n",
    "                               cv=3,\n",
    "                               verbose = 10\n",
    "                              )"
   ]
  },
  {
   "cell_type": "code",
   "execution_count": null,
   "metadata": {},
   "outputs": [
    {
     "name": "stdout",
     "output_type": "stream",
     "text": [
      "Fitting 3 folds for each of 12 candidates, totalling 36 fits\n"
     ]
    },
    {
     "name": "stderr",
     "output_type": "stream",
     "text": [
      "[Parallel(n_jobs=2)]: Using backend LokyBackend with 2 concurrent workers.\n"
     ]
    }
   ],
   "source": [
    "grid_search.fit(X_train_smol, y_train_smol)"
   ]
  }
 ],
 "metadata": {
  "kernelspec": {
   "display_name": "minst-ensemble",
   "language": "python",
   "name": "minst-ensemble"
  },
  "language_info": {
   "codemirror_mode": {
    "name": "ipython",
    "version": 3
   },
   "file_extension": ".py",
   "mimetype": "text/x-python",
   "name": "python",
   "nbconvert_exporter": "python",
   "pygments_lexer": "ipython3",
   "version": "3.6.8"
  },
  "toc": {
   "base_numbering": 1,
   "nav_menu": {},
   "number_sections": true,
   "sideBar": true,
   "skip_h1_title": false,
   "title_cell": "Table of Contents",
   "title_sidebar": "Contents",
   "toc_cell": false,
   "toc_position": {},
   "toc_section_display": true,
   "toc_window_display": false
  },
  "varInspector": {
   "cols": {
    "lenName": 16,
    "lenType": 16,
    "lenVar": 40
   },
   "kernels_config": {
    "python": {
     "delete_cmd_postfix": "",
     "delete_cmd_prefix": "del ",
     "library": "var_list.py",
     "varRefreshCmd": "print(var_dic_list())"
    },
    "r": {
     "delete_cmd_postfix": ") ",
     "delete_cmd_prefix": "rm(",
     "library": "var_list.r",
     "varRefreshCmd": "cat(var_dic_list()) "
    }
   },
   "types_to_exclude": [
    "module",
    "function",
    "builtin_function_or_method",
    "instance",
    "_Feature"
   ],
   "window_display": false
  }
 },
 "nbformat": 4,
 "nbformat_minor": 2
}
